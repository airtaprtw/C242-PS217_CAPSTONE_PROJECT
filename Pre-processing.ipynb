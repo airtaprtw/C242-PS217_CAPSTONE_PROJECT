{
 "cells": [
  {
   "cell_type": "code",
   "execution_count": 578,
   "metadata": {},
   "outputs": [
    {
     "name": "stderr",
     "output_type": "stream",
     "text": [
      "[nltk_data] Downloading package stopwords to\n",
      "[nltk_data]     C:\\Users\\use\\AppData\\Roaming\\nltk_data...\n",
      "[nltk_data]   Package stopwords is already up-to-date!\n",
      "[nltk_data] Downloading package wordnet to\n",
      "[nltk_data]     C:\\Users\\use\\AppData\\Roaming\\nltk_data...\n",
      "[nltk_data]   Package wordnet is already up-to-date!\n"
     ]
    },
    {
     "data": {
      "text/plain": [
       "True"
      ]
     },
     "execution_count": 578,
     "metadata": {},
     "output_type": "execute_result"
    }
   ],
   "source": [
    "import nltk\n",
    "nltk.download('stopwords')\n",
    "nltk.download('wordnet')"
   ]
  },
  {
   "cell_type": "markdown",
   "metadata": {},
   "source": [
    "### Menyiapkan semua library yang dibutuhkan"
   ]
  },
  {
   "cell_type": "code",
   "execution_count": 579,
   "metadata": {},
   "outputs": [],
   "source": [
    "# import packages\n",
    "import csv\n",
    "import numpy as np\n",
    "import pandas as pd\n",
    "import pickle\n",
    "import re\n",
    "from nltk.corpus import stopwords\n",
    "from nltk.stem import WordNetLemmatizer\n",
    "\n",
    "import tensorflow as tf\n",
    "from tensorflow.keras.preprocessing.text import Tokenizer\n",
    "from tensorflow.keras.models import Sequential\n",
    "from tensorflow.keras.layers import Dense\n",
    "from tensorflow.keras.activations import linear, relu, sigmoid\n",
    "from tensorflow.keras.utils import to_categorical\n",
    "from tensorflow.keras import optimizers, losses\n",
    "from sklearn.preprocessing import StandardScaler\n",
    "from sklearn.model_selection import train_test_split\n",
    "from tensorflow.keras.preprocessing.sequence import pad_sequences\n",
    "from tensorflow.keras import layers, models, optimizers\n",
    "import matplotlib.pyplot as plt"
   ]
  },
  {
   "cell_type": "markdown",
   "metadata": {},
   "source": [
    "### Data Wrangling"
   ]
  },
  {
   "cell_type": "markdown",
   "metadata": {},
   "source": [
    "#### Gathering Data"
   ]
  },
  {
   "cell_type": "code",
   "execution_count": 580,
   "metadata": {},
   "outputs": [
    {
     "data": {
      "text/html": [
       "<div>\n",
       "<style scoped>\n",
       "    .dataframe tbody tr th:only-of-type {\n",
       "        vertical-align: middle;\n",
       "    }\n",
       "\n",
       "    .dataframe tbody tr th {\n",
       "        vertical-align: top;\n",
       "    }\n",
       "\n",
       "    .dataframe thead th {\n",
       "        text-align: right;\n",
       "    }\n",
       "</style>\n",
       "<table border=\"1\" class=\"dataframe\">\n",
       "  <thead>\n",
       "    <tr style=\"text-align: right;\">\n",
       "      <th></th>\n",
       "      <th>ingredient_name</th>\n",
       "      <th>rating</th>\n",
       "      <th>functions</th>\n",
       "      <th>link</th>\n",
       "    </tr>\n",
       "  </thead>\n",
       "  <tbody>\n",
       "    <tr>\n",
       "      <th>0</th>\n",
       "      <td>3-O Ethyl Ascorbic Acid</td>\n",
       "      <td>BEST</td>\n",
       "      <td>This potent antioxidant is a highly stable for...</td>\n",
       "      <td>https://www.paulaschoice.com/ingredient-dictio...</td>\n",
       "    </tr>\n",
       "    <tr>\n",
       "      <th>1</th>\n",
       "      <td>Acai</td>\n",
       "      <td>BEST</td>\n",
       "      <td>Pronounced \"ah-sigh-ee\", this small berry has ...</td>\n",
       "      <td>https://www.paulaschoice.com/ingredient-dictio...</td>\n",
       "    </tr>\n",
       "    <tr>\n",
       "      <th>2</th>\n",
       "      <td>Acerola Fruit Extract</td>\n",
       "      <td>BEST</td>\n",
       "      <td>This fruit extract is a potent source of antio...</td>\n",
       "      <td>https://www.paulaschoice.com/ingredient-dictio...</td>\n",
       "    </tr>\n",
       "    <tr>\n",
       "      <th>3</th>\n",
       "      <td>Acetyl Carnitine HCL</td>\n",
       "      <td>BEST</td>\n",
       "      <td>Functions as an antioxidant.</td>\n",
       "      <td>https://www.paulaschoice.com/ingredient-dictio...</td>\n",
       "    </tr>\n",
       "    <tr>\n",
       "      <th>4</th>\n",
       "      <td>Acetyl Dipeptide-1 Cetyl Ester</td>\n",
       "      <td>BEST</td>\n",
       "      <td>A lab-made skin-firming peptide formed from a ...</td>\n",
       "      <td>https://www.paulaschoice.com/ingredient-dictio...</td>\n",
       "    </tr>\n",
       "    <tr>\n",
       "      <th>...</th>\n",
       "      <td>...</td>\n",
       "      <td>...</td>\n",
       "      <td>...</td>\n",
       "      <td>...</td>\n",
       "    </tr>\n",
       "    <tr>\n",
       "      <th>26082</th>\n",
       "      <td>Zostera Marina Extract</td>\n",
       "      <td>NOT RATED</td>\n",
       "      <td>Functions: Skin Conditioning. We have not yet ...</td>\n",
       "      <td>NaN</td>\n",
       "    </tr>\n",
       "    <tr>\n",
       "      <th>26083</th>\n",
       "      <td>Zygophyllum Qatarense Leaf/Stem Extract</td>\n",
       "      <td>NOT RATED</td>\n",
       "      <td>Functions: Antioxidant. We have not yet rated ...</td>\n",
       "      <td>NaN</td>\n",
       "    </tr>\n",
       "    <tr>\n",
       "      <th>26084</th>\n",
       "      <td>Zygosaccharomyces Microellipsoides Ferment</td>\n",
       "      <td>NOT RATED</td>\n",
       "      <td>Functions: Humectant. We have not yet rated th...</td>\n",
       "      <td>NaN</td>\n",
       "    </tr>\n",
       "    <tr>\n",
       "      <th>26085</th>\n",
       "      <td>Zymomonas Ferment Extract</td>\n",
       "      <td>NOT RATED</td>\n",
       "      <td>Functions: Humectant, Skin Conditioning. We ha...</td>\n",
       "      <td>NaN</td>\n",
       "    </tr>\n",
       "    <tr>\n",
       "      <th>26086</th>\n",
       "      <td>Zymomonas Ferment Filtrate</td>\n",
       "      <td>NOT RATED</td>\n",
       "      <td>Functions: Humectant, Skin Conditioning. We ha...</td>\n",
       "      <td>NaN</td>\n",
       "    </tr>\n",
       "  </tbody>\n",
       "</table>\n",
       "<p>26087 rows × 4 columns</p>\n",
       "</div>"
      ],
      "text/plain": [
       "                                  ingredient_name     rating  \\\n",
       "0                         3-O Ethyl Ascorbic Acid       BEST   \n",
       "1                                            Acai       BEST   \n",
       "2                           Acerola Fruit Extract       BEST   \n",
       "3                            Acetyl Carnitine HCL       BEST   \n",
       "4                  Acetyl Dipeptide-1 Cetyl Ester       BEST   \n",
       "...                                           ...        ...   \n",
       "26082                      Zostera Marina Extract  NOT RATED   \n",
       "26083     Zygophyllum Qatarense Leaf/Stem Extract  NOT RATED   \n",
       "26084  Zygosaccharomyces Microellipsoides Ferment  NOT RATED   \n",
       "26085                   Zymomonas Ferment Extract  NOT RATED   \n",
       "26086                  Zymomonas Ferment Filtrate  NOT RATED   \n",
       "\n",
       "                                               functions  \\\n",
       "0      This potent antioxidant is a highly stable for...   \n",
       "1      Pronounced \"ah-sigh-ee\", this small berry has ...   \n",
       "2      This fruit extract is a potent source of antio...   \n",
       "3                           Functions as an antioxidant.   \n",
       "4      A lab-made skin-firming peptide formed from a ...   \n",
       "...                                                  ...   \n",
       "26082  Functions: Skin Conditioning. We have not yet ...   \n",
       "26083  Functions: Antioxidant. We have not yet rated ...   \n",
       "26084  Functions: Humectant. We have not yet rated th...   \n",
       "26085  Functions: Humectant, Skin Conditioning. We ha...   \n",
       "26086  Functions: Humectant, Skin Conditioning. We ha...   \n",
       "\n",
       "                                                    link  \n",
       "0      https://www.paulaschoice.com/ingredient-dictio...  \n",
       "1      https://www.paulaschoice.com/ingredient-dictio...  \n",
       "2      https://www.paulaschoice.com/ingredient-dictio...  \n",
       "3      https://www.paulaschoice.com/ingredient-dictio...  \n",
       "4      https://www.paulaschoice.com/ingredient-dictio...  \n",
       "...                                                  ...  \n",
       "26082                                                NaN  \n",
       "26083                                                NaN  \n",
       "26084                                                NaN  \n",
       "26085                                                NaN  \n",
       "26086                                                NaN  \n",
       "\n",
       "[26087 rows x 4 columns]"
      ]
     },
     "execution_count": 580,
     "metadata": {},
     "output_type": "execute_result"
    }
   ],
   "source": [
    "# import data\n",
    "dataset1_df = pd.read_csv('dataset/dataset1.csv')\n",
    "dataset1_df #show data below"
   ]
  },
  {
   "cell_type": "code",
   "execution_count": 581,
   "metadata": {},
   "outputs": [
    {
     "data": {
      "text/html": [
       "<div>\n",
       "<style scoped>\n",
       "    .dataframe tbody tr th:only-of-type {\n",
       "        vertical-align: middle;\n",
       "    }\n",
       "\n",
       "    .dataframe tbody tr th {\n",
       "        vertical-align: top;\n",
       "    }\n",
       "\n",
       "    .dataframe thead th {\n",
       "        text-align: right;\n",
       "    }\n",
       "</style>\n",
       "<table border=\"1\" class=\"dataframe\">\n",
       "  <thead>\n",
       "    <tr style=\"text-align: right;\">\n",
       "      <th></th>\n",
       "      <th>ingredient_name</th>\n",
       "      <th>rating</th>\n",
       "      <th>functions</th>\n",
       "      <th>link</th>\n",
       "      <th>benefits</th>\n",
       "      <th>categories</th>\n",
       "      <th>glance</th>\n",
       "      <th>references</th>\n",
       "      <th>all</th>\n",
       "      <th>description</th>\n",
       "      <th>combined_text</th>\n",
       "    </tr>\n",
       "  </thead>\n",
       "  <tbody>\n",
       "    <tr>\n",
       "      <th>0</th>\n",
       "      <td>3-O Ethyl Ascorbic Acid</td>\n",
       "      <td>BEST</td>\n",
       "      <td>This potent antioxidant is a highly stable for...</td>\n",
       "      <td>https://www.paulaschoice.com/ingredient-dictio...</td>\n",
       "      <td>Anti-Aging, Evens Skin Tone, Dark Spot Fading</td>\n",
       "      <td>Antioxidant</td>\n",
       "      <td>A more stable derivative of pure vitamin C (as...</td>\n",
       "      <td>Free Radical Biology and Medicine,  September ...</td>\n",
       "      <td>INGREDIENT DICTIONARY/SEARCH RESULTS\\n3-O Ethy...</td>\n",
       "      <td>3-O ethyl ascorbic acid is a stable, water- an...</td>\n",
       "      <td>3-O ethyl ascorbic acid is a stable, water- an...</td>\n",
       "    </tr>\n",
       "    <tr>\n",
       "      <th>1</th>\n",
       "      <td>Acai</td>\n",
       "      <td>BEST</td>\n",
       "      <td>Pronounced \"ah-sigh-ee\", this small berry has ...</td>\n",
       "      <td>https://www.paulaschoice.com/ingredient-dictio...</td>\n",
       "      <td>Anti-Aging, Soothing</td>\n",
       "      <td>Antioxidant, Plant Extracts</td>\n",
       "      <td>NaN</td>\n",
       "      <td>NaN</td>\n",
       "      <td>INGREDIENT DICTIONARY/SEARCH RESULTS\\nAcai\\nRa...</td>\n",
       "      <td>Acai (pronounced “ah-sigh-ee”) is a small berr...</td>\n",
       "      <td>Acai (pronounced “ah-sigh-ee”) is a small berr...</td>\n",
       "    </tr>\n",
       "    <tr>\n",
       "      <th>2</th>\n",
       "      <td>Acerola Fruit Extract</td>\n",
       "      <td>BEST</td>\n",
       "      <td>This fruit extract is a potent source of antio...</td>\n",
       "      <td>https://www.paulaschoice.com/ingredient-dictio...</td>\n",
       "      <td>Anti-Aging</td>\n",
       "      <td>Antioxidant, Plant Extracts</td>\n",
       "      <td>NaN</td>\n",
       "      <td>Journal of AOAC International,  September 2018...</td>\n",
       "      <td>INGREDIENT DICTIONARY/SEARCH RESULTS\\nAcerola ...</td>\n",
       "      <td>Acerola fruit extract (also known as _Malpighi...</td>\n",
       "      <td>Acerola fruit extract (also known as _Malpighi...</td>\n",
       "    </tr>\n",
       "    <tr>\n",
       "      <th>3</th>\n",
       "      <td>Acetyl Carnitine HCL</td>\n",
       "      <td>BEST</td>\n",
       "      <td>Functions as an antioxidant.</td>\n",
       "      <td>https://www.paulaschoice.com/ingredient-dictio...</td>\n",
       "      <td>Hydration</td>\n",
       "      <td>Antioxidant</td>\n",
       "      <td>NaN</td>\n",
       "      <td>Supercharged Hydration;;How Hyaluronic Acid Be...</td>\n",
       "      <td>INGREDIENT DICTIONARY/SEARCH RESULTS\\nAcetyl C...</td>\n",
       "      <td>NaN</td>\n",
       "      <td>Functions as an antioxidant.</td>\n",
       "    </tr>\n",
       "    <tr>\n",
       "      <th>4</th>\n",
       "      <td>Acetyl Dipeptide-1 Cetyl Ester</td>\n",
       "      <td>BEST</td>\n",
       "      <td>A lab-made skin-firming peptide formed from a ...</td>\n",
       "      <td>https://www.paulaschoice.com/ingredient-dictio...</td>\n",
       "      <td>Anti-Aging</td>\n",
       "      <td>Peptides</td>\n",
       "      <td>Lab-made anti-aging peptide that promotes firm...</td>\n",
       "      <td>Pharmaceuticals,  July 2021,  pages 1–22;;Jour...</td>\n",
       "      <td>INGREDIENT DICTIONARY/SEARCH RESULTS\\nAcetyl D...</td>\n",
       "      <td>Acetyl dipeptide-1 cetyl ester is a lab-engine...</td>\n",
       "      <td>Acetyl dipeptide-1 cetyl ester is a lab-engine...</td>\n",
       "    </tr>\n",
       "    <tr>\n",
       "      <th>...</th>\n",
       "      <td>...</td>\n",
       "      <td>...</td>\n",
       "      <td>...</td>\n",
       "      <td>...</td>\n",
       "      <td>...</td>\n",
       "      <td>...</td>\n",
       "      <td>...</td>\n",
       "      <td>...</td>\n",
       "      <td>...</td>\n",
       "      <td>...</td>\n",
       "      <td>...</td>\n",
       "    </tr>\n",
       "    <tr>\n",
       "      <th>26069</th>\n",
       "      <td>Zostera Marina Extract</td>\n",
       "      <td>NOT RATED</td>\n",
       "      <td>Functions: Skin Conditioning. We have not yet ...</td>\n",
       "      <td>NaN</td>\n",
       "      <td>NaN</td>\n",
       "      <td>NaN</td>\n",
       "      <td>NaN</td>\n",
       "      <td>NaN</td>\n",
       "      <td>NaN</td>\n",
       "      <td>NaN</td>\n",
       "      <td>Functions: Skin Conditioning. We have not yet...</td>\n",
       "    </tr>\n",
       "    <tr>\n",
       "      <th>26070</th>\n",
       "      <td>Zygophyllum Qatarense Leaf/Stem Extract</td>\n",
       "      <td>NOT RATED</td>\n",
       "      <td>Functions: Antioxidant. We have not yet rated ...</td>\n",
       "      <td>NaN</td>\n",
       "      <td>NaN</td>\n",
       "      <td>NaN</td>\n",
       "      <td>NaN</td>\n",
       "      <td>NaN</td>\n",
       "      <td>NaN</td>\n",
       "      <td>NaN</td>\n",
       "      <td>Functions: Antioxidant. We have not yet rated...</td>\n",
       "    </tr>\n",
       "    <tr>\n",
       "      <th>26071</th>\n",
       "      <td>Zygosaccharomyces Microellipsoides Ferment</td>\n",
       "      <td>NOT RATED</td>\n",
       "      <td>Functions: Humectant. We have not yet rated th...</td>\n",
       "      <td>NaN</td>\n",
       "      <td>NaN</td>\n",
       "      <td>NaN</td>\n",
       "      <td>NaN</td>\n",
       "      <td>NaN</td>\n",
       "      <td>NaN</td>\n",
       "      <td>NaN</td>\n",
       "      <td>Functions: Humectant. We have not yet rated t...</td>\n",
       "    </tr>\n",
       "    <tr>\n",
       "      <th>26072</th>\n",
       "      <td>Zymomonas Ferment Extract</td>\n",
       "      <td>NOT RATED</td>\n",
       "      <td>Functions: Humectant, Skin Conditioning. We ha...</td>\n",
       "      <td>NaN</td>\n",
       "      <td>NaN</td>\n",
       "      <td>NaN</td>\n",
       "      <td>NaN</td>\n",
       "      <td>NaN</td>\n",
       "      <td>NaN</td>\n",
       "      <td>NaN</td>\n",
       "      <td>Functions: Humectant, Skin Conditioning. We h...</td>\n",
       "    </tr>\n",
       "    <tr>\n",
       "      <th>26073</th>\n",
       "      <td>Zymomonas Ferment Filtrate</td>\n",
       "      <td>NOT RATED</td>\n",
       "      <td>Functions: Humectant, Skin Conditioning. We ha...</td>\n",
       "      <td>NaN</td>\n",
       "      <td>NaN</td>\n",
       "      <td>NaN</td>\n",
       "      <td>NaN</td>\n",
       "      <td>NaN</td>\n",
       "      <td>NaN</td>\n",
       "      <td>NaN</td>\n",
       "      <td>Functions: Humectant, Skin Conditioning. We h...</td>\n",
       "    </tr>\n",
       "  </tbody>\n",
       "</table>\n",
       "<p>26074 rows × 11 columns</p>\n",
       "</div>"
      ],
      "text/plain": [
       "                                  ingredient_name     rating  \\\n",
       "0                         3-O Ethyl Ascorbic Acid       BEST   \n",
       "1                                            Acai       BEST   \n",
       "2                           Acerola Fruit Extract       BEST   \n",
       "3                            Acetyl Carnitine HCL       BEST   \n",
       "4                  Acetyl Dipeptide-1 Cetyl Ester       BEST   \n",
       "...                                           ...        ...   \n",
       "26069                      Zostera Marina Extract  NOT RATED   \n",
       "26070     Zygophyllum Qatarense Leaf/Stem Extract  NOT RATED   \n",
       "26071  Zygosaccharomyces Microellipsoides Ferment  NOT RATED   \n",
       "26072                   Zymomonas Ferment Extract  NOT RATED   \n",
       "26073                  Zymomonas Ferment Filtrate  NOT RATED   \n",
       "\n",
       "                                               functions  \\\n",
       "0      This potent antioxidant is a highly stable for...   \n",
       "1      Pronounced \"ah-sigh-ee\", this small berry has ...   \n",
       "2      This fruit extract is a potent source of antio...   \n",
       "3                           Functions as an antioxidant.   \n",
       "4      A lab-made skin-firming peptide formed from a ...   \n",
       "...                                                  ...   \n",
       "26069  Functions: Skin Conditioning. We have not yet ...   \n",
       "26070  Functions: Antioxidant. We have not yet rated ...   \n",
       "26071  Functions: Humectant. We have not yet rated th...   \n",
       "26072  Functions: Humectant, Skin Conditioning. We ha...   \n",
       "26073  Functions: Humectant, Skin Conditioning. We ha...   \n",
       "\n",
       "                                                    link  \\\n",
       "0      https://www.paulaschoice.com/ingredient-dictio...   \n",
       "1      https://www.paulaschoice.com/ingredient-dictio...   \n",
       "2      https://www.paulaschoice.com/ingredient-dictio...   \n",
       "3      https://www.paulaschoice.com/ingredient-dictio...   \n",
       "4      https://www.paulaschoice.com/ingredient-dictio...   \n",
       "...                                                  ...   \n",
       "26069                                                NaN   \n",
       "26070                                                NaN   \n",
       "26071                                                NaN   \n",
       "26072                                                NaN   \n",
       "26073                                                NaN   \n",
       "\n",
       "                                            benefits  \\\n",
       "0      Anti-Aging, Evens Skin Tone, Dark Spot Fading   \n",
       "1                               Anti-Aging, Soothing   \n",
       "2                                         Anti-Aging   \n",
       "3                                          Hydration   \n",
       "4                                         Anti-Aging   \n",
       "...                                              ...   \n",
       "26069                                            NaN   \n",
       "26070                                            NaN   \n",
       "26071                                            NaN   \n",
       "26072                                            NaN   \n",
       "26073                                            NaN   \n",
       "\n",
       "                        categories  \\\n",
       "0                      Antioxidant   \n",
       "1      Antioxidant, Plant Extracts   \n",
       "2      Antioxidant, Plant Extracts   \n",
       "3                      Antioxidant   \n",
       "4                         Peptides   \n",
       "...                            ...   \n",
       "26069                          NaN   \n",
       "26070                          NaN   \n",
       "26071                          NaN   \n",
       "26072                          NaN   \n",
       "26073                          NaN   \n",
       "\n",
       "                                                  glance  \\\n",
       "0      A more stable derivative of pure vitamin C (as...   \n",
       "1                                                    NaN   \n",
       "2                                                    NaN   \n",
       "3                                                    NaN   \n",
       "4      Lab-made anti-aging peptide that promotes firm...   \n",
       "...                                                  ...   \n",
       "26069                                                NaN   \n",
       "26070                                                NaN   \n",
       "26071                                                NaN   \n",
       "26072                                                NaN   \n",
       "26073                                                NaN   \n",
       "\n",
       "                                              references  \\\n",
       "0      Free Radical Biology and Medicine,  September ...   \n",
       "1                                                    NaN   \n",
       "2      Journal of AOAC International,  September 2018...   \n",
       "3      Supercharged Hydration;;How Hyaluronic Acid Be...   \n",
       "4      Pharmaceuticals,  July 2021,  pages 1–22;;Jour...   \n",
       "...                                                  ...   \n",
       "26069                                                NaN   \n",
       "26070                                                NaN   \n",
       "26071                                                NaN   \n",
       "26072                                                NaN   \n",
       "26073                                                NaN   \n",
       "\n",
       "                                                     all  \\\n",
       "0      INGREDIENT DICTIONARY/SEARCH RESULTS\\n3-O Ethy...   \n",
       "1      INGREDIENT DICTIONARY/SEARCH RESULTS\\nAcai\\nRa...   \n",
       "2      INGREDIENT DICTIONARY/SEARCH RESULTS\\nAcerola ...   \n",
       "3      INGREDIENT DICTIONARY/SEARCH RESULTS\\nAcetyl C...   \n",
       "4      INGREDIENT DICTIONARY/SEARCH RESULTS\\nAcetyl D...   \n",
       "...                                                  ...   \n",
       "26069                                                NaN   \n",
       "26070                                                NaN   \n",
       "26071                                                NaN   \n",
       "26072                                                NaN   \n",
       "26073                                                NaN   \n",
       "\n",
       "                                             description  \\\n",
       "0      3-O ethyl ascorbic acid is a stable, water- an...   \n",
       "1      Acai (pronounced “ah-sigh-ee”) is a small berr...   \n",
       "2      Acerola fruit extract (also known as _Malpighi...   \n",
       "3                                                    NaN   \n",
       "4      Acetyl dipeptide-1 cetyl ester is a lab-engine...   \n",
       "...                                                  ...   \n",
       "26069                                                NaN   \n",
       "26070                                                NaN   \n",
       "26071                                                NaN   \n",
       "26072                                                NaN   \n",
       "26073                                                NaN   \n",
       "\n",
       "                                           combined_text  \n",
       "0      3-O ethyl ascorbic acid is a stable, water- an...  \n",
       "1      Acai (pronounced “ah-sigh-ee”) is a small berr...  \n",
       "2      Acerola fruit extract (also known as _Malpighi...  \n",
       "3                           Functions as an antioxidant.  \n",
       "4      Acetyl dipeptide-1 cetyl ester is a lab-engine...  \n",
       "...                                                  ...  \n",
       "26069   Functions: Skin Conditioning. We have not yet...  \n",
       "26070   Functions: Antioxidant. We have not yet rated...  \n",
       "26071   Functions: Humectant. We have not yet rated t...  \n",
       "26072   Functions: Humectant, Skin Conditioning. We h...  \n",
       "26073   Functions: Humectant, Skin Conditioning. We h...  \n",
       "\n",
       "[26074 rows x 11 columns]"
      ]
     },
     "execution_count": 581,
     "metadata": {},
     "output_type": "execute_result"
    }
   ],
   "source": [
    "# import data\n",
    "dataset2_df = pd.read_csv('dataset/dataset2.csv')\n",
    "dataset2_df #show data below"
   ]
  },
  {
   "cell_type": "markdown",
   "metadata": {},
   "source": [
    "### Assesing Data"
   ]
  },
  {
   "cell_type": "markdown",
   "metadata": {},
   "source": [
    "#### Menilai Tabel dataset1_df"
   ]
  },
  {
   "cell_type": "code",
   "execution_count": 582,
   "metadata": {},
   "outputs": [
    {
     "name": "stdout",
     "output_type": "stream",
     "text": [
      "<class 'pandas.core.frame.DataFrame'>\n",
      "RangeIndex: 26087 entries, 0 to 26086\n",
      "Data columns (total 4 columns):\n",
      " #   Column           Non-Null Count  Dtype \n",
      "---  ------           --------------  ----- \n",
      " 0   ingredient_name  26087 non-null  object\n",
      " 1   rating           26087 non-null  object\n",
      " 2   functions        26072 non-null  object\n",
      " 3   link             2412 non-null   object\n",
      "dtypes: object(4)\n",
      "memory usage: 815.3+ KB\n"
     ]
    }
   ],
   "source": [
    "dataset1_df.info()"
   ]
  },
  {
   "cell_type": "code",
   "execution_count": 583,
   "metadata": {},
   "outputs": [
    {
     "data": {
      "text/plain": [
       "ingredient_name        0\n",
       "rating                 0\n",
       "functions             15\n",
       "link               23675\n",
       "dtype: int64"
      ]
     },
     "execution_count": 583,
     "metadata": {},
     "output_type": "execute_result"
    }
   ],
   "source": [
    "dataset1_df.isna().sum()"
   ]
  },
  {
   "cell_type": "code",
   "execution_count": 584,
   "metadata": {},
   "outputs": [
    {
     "name": "stdout",
     "output_type": "stream",
     "text": [
      "Jumlah Duplikasi:  0\n"
     ]
    }
   ],
   "source": [
    "print(\"Jumlah Duplikasi: \", dataset1_df.duplicated().sum())"
   ]
  },
  {
   "cell_type": "code",
   "execution_count": 585,
   "metadata": {},
   "outputs": [
    {
     "data": {
      "text/html": [
       "<div>\n",
       "<style scoped>\n",
       "    .dataframe tbody tr th:only-of-type {\n",
       "        vertical-align: middle;\n",
       "    }\n",
       "\n",
       "    .dataframe tbody tr th {\n",
       "        vertical-align: top;\n",
       "    }\n",
       "\n",
       "    .dataframe thead th {\n",
       "        text-align: right;\n",
       "    }\n",
       "</style>\n",
       "<table border=\"1\" class=\"dataframe\">\n",
       "  <thead>\n",
       "    <tr style=\"text-align: right;\">\n",
       "      <th></th>\n",
       "      <th>ingredient_name</th>\n",
       "      <th>rating</th>\n",
       "      <th>functions</th>\n",
       "      <th>link</th>\n",
       "    </tr>\n",
       "  </thead>\n",
       "  <tbody>\n",
       "    <tr>\n",
       "      <th>count</th>\n",
       "      <td>26087</td>\n",
       "      <td>26087</td>\n",
       "      <td>26072</td>\n",
       "      <td>2412</td>\n",
       "    </tr>\n",
       "    <tr>\n",
       "      <th>unique</th>\n",
       "      <td>26084</td>\n",
       "      <td>6</td>\n",
       "      <td>4055</td>\n",
       "      <td>2412</td>\n",
       "    </tr>\n",
       "    <tr>\n",
       "      <th>top</th>\n",
       "      <td>Rubus Idaeus (Raspberry) Fruit Extract</td>\n",
       "      <td>NOT RATED</td>\n",
       "      <td>Functions: Skin Conditioning. We have not yet ...</td>\n",
       "      <td>https://www.paulaschoice.com/ingredient-dictio...</td>\n",
       "    </tr>\n",
       "    <tr>\n",
       "      <th>freq</th>\n",
       "      <td>2</td>\n",
       "      <td>23675</td>\n",
       "      <td>5642</td>\n",
       "      <td>1</td>\n",
       "    </tr>\n",
       "  </tbody>\n",
       "</table>\n",
       "</div>"
      ],
      "text/plain": [
       "                               ingredient_name     rating  \\\n",
       "count                                    26087      26087   \n",
       "unique                                   26084          6   \n",
       "top     Rubus Idaeus (Raspberry) Fruit Extract  NOT RATED   \n",
       "freq                                         2      23675   \n",
       "\n",
       "                                                functions  \\\n",
       "count                                               26072   \n",
       "unique                                               4055   \n",
       "top     Functions: Skin Conditioning. We have not yet ...   \n",
       "freq                                                 5642   \n",
       "\n",
       "                                                     link  \n",
       "count                                                2412  \n",
       "unique                                               2412  \n",
       "top     https://www.paulaschoice.com/ingredient-dictio...  \n",
       "freq                                                    1  "
      ]
     },
     "execution_count": 585,
     "metadata": {},
     "output_type": "execute_result"
    }
   ],
   "source": [
    "dataset1_df.describe()"
   ]
  },
  {
   "cell_type": "markdown",
   "metadata": {},
   "source": [
    "#### Menilai Tabel dataset2_df"
   ]
  },
  {
   "cell_type": "code",
   "execution_count": 586,
   "metadata": {},
   "outputs": [
    {
     "name": "stdout",
     "output_type": "stream",
     "text": [
      "<class 'pandas.core.frame.DataFrame'>\n",
      "RangeIndex: 26074 entries, 0 to 26073\n",
      "Data columns (total 11 columns):\n",
      " #   Column           Non-Null Count  Dtype \n",
      "---  ------           --------------  ----- \n",
      " 0   ingredient_name  26074 non-null  object\n",
      " 1   rating           26074 non-null  object\n",
      " 2   functions        26060 non-null  object\n",
      " 3   link             2399 non-null   object\n",
      " 4   benefits         1524 non-null   object\n",
      " 5   categories       2350 non-null   object\n",
      " 6   glance           942 non-null    object\n",
      " 7   references       880 non-null    object\n",
      " 8   all              2382 non-null   object\n",
      " 9   description      2370 non-null   object\n",
      " 10  combined_text    26073 non-null  object\n",
      "dtypes: object(11)\n",
      "memory usage: 2.2+ MB\n"
     ]
    }
   ],
   "source": [
    "dataset2_df.info()"
   ]
  },
  {
   "cell_type": "code",
   "execution_count": 587,
   "metadata": {},
   "outputs": [
    {
     "data": {
      "text/plain": [
       "ingredient_name        0\n",
       "rating                 0\n",
       "functions             14\n",
       "link               23675\n",
       "benefits           24550\n",
       "categories         23724\n",
       "glance             25132\n",
       "references         25194\n",
       "all                23692\n",
       "description        23704\n",
       "combined_text          1\n",
       "dtype: int64"
      ]
     },
     "execution_count": 587,
     "metadata": {},
     "output_type": "execute_result"
    }
   ],
   "source": [
    "dataset2_df.isna().sum()"
   ]
  },
  {
   "cell_type": "code",
   "execution_count": 588,
   "metadata": {},
   "outputs": [
    {
     "name": "stdout",
     "output_type": "stream",
     "text": [
      "Jumlah duplikasi:  0\n"
     ]
    }
   ],
   "source": [
    "print(\"Jumlah duplikasi: \", dataset2_df.duplicated().sum())"
   ]
  },
  {
   "cell_type": "code",
   "execution_count": 589,
   "metadata": {},
   "outputs": [
    {
     "data": {
      "text/html": [
       "<div>\n",
       "<style scoped>\n",
       "    .dataframe tbody tr th:only-of-type {\n",
       "        vertical-align: middle;\n",
       "    }\n",
       "\n",
       "    .dataframe tbody tr th {\n",
       "        vertical-align: top;\n",
       "    }\n",
       "\n",
       "    .dataframe thead th {\n",
       "        text-align: right;\n",
       "    }\n",
       "</style>\n",
       "<table border=\"1\" class=\"dataframe\">\n",
       "  <thead>\n",
       "    <tr style=\"text-align: right;\">\n",
       "      <th></th>\n",
       "      <th>ingredient_name</th>\n",
       "      <th>rating</th>\n",
       "      <th>functions</th>\n",
       "      <th>link</th>\n",
       "      <th>benefits</th>\n",
       "      <th>categories</th>\n",
       "      <th>glance</th>\n",
       "      <th>references</th>\n",
       "      <th>all</th>\n",
       "      <th>description</th>\n",
       "      <th>combined_text</th>\n",
       "    </tr>\n",
       "  </thead>\n",
       "  <tbody>\n",
       "    <tr>\n",
       "      <th>count</th>\n",
       "      <td>26074</td>\n",
       "      <td>26074</td>\n",
       "      <td>26060</td>\n",
       "      <td>2399</td>\n",
       "      <td>1524</td>\n",
       "      <td>2350</td>\n",
       "      <td>942</td>\n",
       "      <td>880</td>\n",
       "      <td>2382</td>\n",
       "      <td>2370</td>\n",
       "      <td>26073</td>\n",
       "    </tr>\n",
       "    <tr>\n",
       "      <th>unique</th>\n",
       "      <td>26074</td>\n",
       "      <td>6</td>\n",
       "      <td>4044</td>\n",
       "      <td>2399</td>\n",
       "      <td>90</td>\n",
       "      <td>392</td>\n",
       "      <td>927</td>\n",
       "      <td>367</td>\n",
       "      <td>2382</td>\n",
       "      <td>2350</td>\n",
       "      <td>4245</td>\n",
       "    </tr>\n",
       "    <tr>\n",
       "      <th>top</th>\n",
       "      <td>Zymomonas Ferment Filtrate</td>\n",
       "      <td>NOT RATED</td>\n",
       "      <td>Functions: Skin Conditioning. We have not yet ...</td>\n",
       "      <td>https://www.paulaschoice.com/ingredient-dictio...</td>\n",
       "      <td>Hydration</td>\n",
       "      <td>Antioxidant, Plant Extracts</td>\n",
       "      <td>Is a skin-restoring ingredient, meaning it is ...</td>\n",
       "      <td>Supercharged Hydration;;How Hyaluronic Acid Be...</td>\n",
       "      <td>INGREDIENT DICTIONARY/SEARCH RESULTS\\nZingiber...</td>\n",
       "      <td>Used as an emollient and thickening agent in c...</td>\n",
       "      <td>Functions: Skin Conditioning. We have not yet...</td>\n",
       "    </tr>\n",
       "    <tr>\n",
       "      <th>freq</th>\n",
       "      <td>1</td>\n",
       "      <td>23675</td>\n",
       "      <td>5642</td>\n",
       "      <td>1</td>\n",
       "      <td>501</td>\n",
       "      <td>255</td>\n",
       "      <td>3</td>\n",
       "      <td>241</td>\n",
       "      <td>1</td>\n",
       "      <td>7</td>\n",
       "      <td>5642</td>\n",
       "    </tr>\n",
       "  </tbody>\n",
       "</table>\n",
       "</div>"
      ],
      "text/plain": [
       "                   ingredient_name     rating  \\\n",
       "count                        26074      26074   \n",
       "unique                       26074          6   \n",
       "top     Zymomonas Ferment Filtrate  NOT RATED   \n",
       "freq                             1      23675   \n",
       "\n",
       "                                                functions  \\\n",
       "count                                               26060   \n",
       "unique                                               4044   \n",
       "top     Functions: Skin Conditioning. We have not yet ...   \n",
       "freq                                                 5642   \n",
       "\n",
       "                                                     link   benefits  \\\n",
       "count                                                2399       1524   \n",
       "unique                                               2399         90   \n",
       "top     https://www.paulaschoice.com/ingredient-dictio...  Hydration   \n",
       "freq                                                    1        501   \n",
       "\n",
       "                         categories  \\\n",
       "count                          2350   \n",
       "unique                          392   \n",
       "top     Antioxidant, Plant Extracts   \n",
       "freq                            255   \n",
       "\n",
       "                                                   glance  \\\n",
       "count                                                 942   \n",
       "unique                                                927   \n",
       "top     Is a skin-restoring ingredient, meaning it is ...   \n",
       "freq                                                    3   \n",
       "\n",
       "                                               references  \\\n",
       "count                                                 880   \n",
       "unique                                                367   \n",
       "top     Supercharged Hydration;;How Hyaluronic Acid Be...   \n",
       "freq                                                  241   \n",
       "\n",
       "                                                      all  \\\n",
       "count                                                2382   \n",
       "unique                                               2382   \n",
       "top     INGREDIENT DICTIONARY/SEARCH RESULTS\\nZingiber...   \n",
       "freq                                                    1   \n",
       "\n",
       "                                              description  \\\n",
       "count                                                2370   \n",
       "unique                                               2350   \n",
       "top     Used as an emollient and thickening agent in c...   \n",
       "freq                                                    7   \n",
       "\n",
       "                                            combined_text  \n",
       "count                                               26073  \n",
       "unique                                               4245  \n",
       "top      Functions: Skin Conditioning. We have not yet...  \n",
       "freq                                                 5642  "
      ]
     },
     "execution_count": 589,
     "metadata": {},
     "output_type": "execute_result"
    }
   ],
   "source": [
    "dataset2_df.describe()"
   ]
  },
  {
   "cell_type": "markdown",
   "metadata": {},
   "source": [
    "### Cleaning Data"
   ]
  },
  {
   "cell_type": "markdown",
   "metadata": {},
   "source": [
    "#### Cleaning Tabel dataset1_df"
   ]
  },
  {
   "cell_type": "markdown",
   "metadata": {},
   "source": [
    "##### Duplicate Data"
   ]
  },
  {
   "cell_type": "code",
   "execution_count": 590,
   "metadata": {},
   "outputs": [
    {
     "data": {
      "text/plain": [
       "np.int64(0)"
      ]
     },
     "execution_count": 590,
     "metadata": {},
     "output_type": "execute_result"
    }
   ],
   "source": [
    "dataset1_df.duplicated().sum()"
   ]
  },
  {
   "cell_type": "code",
   "execution_count": 591,
   "metadata": {},
   "outputs": [],
   "source": [
    "dataset1_df.drop_duplicates(inplace=True)"
   ]
  },
  {
   "cell_type": "code",
   "execution_count": 592,
   "metadata": {},
   "outputs": [
    {
     "name": "stdout",
     "output_type": "stream",
     "text": [
      "Jumlah duplikasi:  0\n"
     ]
    }
   ],
   "source": [
    "print(\"Jumlah duplikasi: \", dataset1_df.duplicated().sum())"
   ]
  },
  {
   "cell_type": "markdown",
   "metadata": {},
   "source": [
    "##### Missing Value"
   ]
  },
  {
   "cell_type": "code",
   "execution_count": 593,
   "metadata": {},
   "outputs": [
    {
     "data": {
      "text/plain": [
       "ingredient_name        0\n",
       "rating                 0\n",
       "functions             15\n",
       "link               23675\n",
       "dtype: int64"
      ]
     },
     "execution_count": 593,
     "metadata": {},
     "output_type": "execute_result"
    }
   ],
   "source": [
    "dataset1_df.isna().sum()"
   ]
  },
  {
   "cell_type": "code",
   "execution_count": 594,
   "metadata": {},
   "outputs": [],
   "source": [
    "dataset1_df['functions'] = dataset1_df['functions'].fillna(\"Unknown\")"
   ]
  },
  {
   "cell_type": "code",
   "execution_count": 595,
   "metadata": {},
   "outputs": [],
   "source": [
    "dataset1_df['link'] = dataset1_df['link'].fillna(\"No Link\")"
   ]
  },
  {
   "cell_type": "code",
   "execution_count": 596,
   "metadata": {},
   "outputs": [
    {
     "name": "stdout",
     "output_type": "stream",
     "text": [
      "ingredient_name    0\n",
      "rating             0\n",
      "functions          0\n",
      "link               0\n",
      "dtype: int64\n"
     ]
    }
   ],
   "source": [
    "print(dataset1_df.isna().sum())\n"
   ]
  },
  {
   "cell_type": "markdown",
   "metadata": {},
   "source": [
    "#### Cleaning Tabel dataset2_df"
   ]
  },
  {
   "cell_type": "markdown",
   "metadata": {},
   "source": [
    "##### Duplicate Data"
   ]
  },
  {
   "cell_type": "code",
   "execution_count": 597,
   "metadata": {},
   "outputs": [
    {
     "data": {
      "text/plain": [
       "np.int64(0)"
      ]
     },
     "execution_count": 597,
     "metadata": {},
     "output_type": "execute_result"
    }
   ],
   "source": [
    "dataset2_df.duplicated().sum()"
   ]
  },
  {
   "cell_type": "code",
   "execution_count": 598,
   "metadata": {},
   "outputs": [],
   "source": [
    "dataset2_df.drop_duplicates(inplace=True)"
   ]
  },
  {
   "cell_type": "code",
   "execution_count": 599,
   "metadata": {},
   "outputs": [
    {
     "name": "stdout",
     "output_type": "stream",
     "text": [
      "Jumlah duplikasi:  0\n"
     ]
    }
   ],
   "source": [
    "print(\"Jumlah duplikasi: \", dataset2_df.duplicated().sum())"
   ]
  },
  {
   "cell_type": "markdown",
   "metadata": {},
   "source": [
    "##### Missing Value"
   ]
  },
  {
   "cell_type": "code",
   "execution_count": 600,
   "metadata": {},
   "outputs": [
    {
     "data": {
      "text/plain": [
       "ingredient_name        0\n",
       "rating                 0\n",
       "functions             14\n",
       "link               23675\n",
       "benefits           24550\n",
       "categories         23724\n",
       "glance             25132\n",
       "references         25194\n",
       "all                23692\n",
       "description        23704\n",
       "combined_text          1\n",
       "dtype: int64"
      ]
     },
     "execution_count": 600,
     "metadata": {},
     "output_type": "execute_result"
    }
   ],
   "source": [
    "dataset2_df.isna().sum()"
   ]
  },
  {
   "cell_type": "code",
   "execution_count": 601,
   "metadata": {},
   "outputs": [],
   "source": [
    "dataset2_df['functions'] = dataset2_df['functions'].fillna(\"Unknown\")"
   ]
  },
  {
   "cell_type": "code",
   "execution_count": 602,
   "metadata": {},
   "outputs": [],
   "source": [
    "dataset2_df['link'] = dataset2_df['link'].fillna(\"No Link\")"
   ]
  },
  {
   "cell_type": "code",
   "execution_count": 603,
   "metadata": {},
   "outputs": [
    {
     "name": "stdout",
     "output_type": "stream",
     "text": [
      "ingredient_name        0\n",
      "rating                 0\n",
      "functions              0\n",
      "link                   0\n",
      "benefits           24550\n",
      "categories         23724\n",
      "glance             25132\n",
      "references         25194\n",
      "all                23692\n",
      "description        23704\n",
      "combined_text          1\n",
      "dtype: int64\n"
     ]
    }
   ],
   "source": [
    "print(dataset2_df.isna().sum())"
   ]
  },
  {
   "cell_type": "markdown",
   "metadata": {},
   "source": [
    "##### Drop Columns"
   ]
  },
  {
   "cell_type": "code",
   "execution_count": 604,
   "metadata": {},
   "outputs": [],
   "source": [
    "dataset1_df = dataset1_df.drop(columns='link')\n"
   ]
  },
  {
   "cell_type": "code",
   "execution_count": 605,
   "metadata": {},
   "outputs": [],
   "source": [
    "dataset2_df = dataset2_df.drop(columns=['benefits', 'categories', 'glance', 'references', 'all', 'description', 'combined_text', 'link'])\n"
   ]
  },
  {
   "cell_type": "code",
   "execution_count": 606,
   "metadata": {},
   "outputs": [
    {
     "name": "stdout",
     "output_type": "stream",
     "text": [
      "ingredient_name    0\n",
      "rating             0\n",
      "functions          0\n",
      "dtype: int64\n"
     ]
    }
   ],
   "source": [
    "print(dataset2_df.isna().sum())"
   ]
  },
  {
   "cell_type": "code",
   "execution_count": 607,
   "metadata": {},
   "outputs": [
    {
     "data": {
      "text/html": [
       "<div>\n",
       "<style scoped>\n",
       "    .dataframe tbody tr th:only-of-type {\n",
       "        vertical-align: middle;\n",
       "    }\n",
       "\n",
       "    .dataframe tbody tr th {\n",
       "        vertical-align: top;\n",
       "    }\n",
       "\n",
       "    .dataframe thead th {\n",
       "        text-align: right;\n",
       "    }\n",
       "</style>\n",
       "<table border=\"1\" class=\"dataframe\">\n",
       "  <thead>\n",
       "    <tr style=\"text-align: right;\">\n",
       "      <th></th>\n",
       "      <th>ingredient_name</th>\n",
       "      <th>rating</th>\n",
       "      <th>functions</th>\n",
       "    </tr>\n",
       "  </thead>\n",
       "  <tbody>\n",
       "    <tr>\n",
       "      <th>0</th>\n",
       "      <td>3-O Ethyl Ascorbic Acid</td>\n",
       "      <td>BEST</td>\n",
       "      <td>This potent antioxidant is a highly stable for...</td>\n",
       "    </tr>\n",
       "    <tr>\n",
       "      <th>1</th>\n",
       "      <td>Acai</td>\n",
       "      <td>BEST</td>\n",
       "      <td>Pronounced \"ah-sigh-ee\", this small berry has ...</td>\n",
       "    </tr>\n",
       "    <tr>\n",
       "      <th>2</th>\n",
       "      <td>Acerola Fruit Extract</td>\n",
       "      <td>BEST</td>\n",
       "      <td>This fruit extract is a potent source of antio...</td>\n",
       "    </tr>\n",
       "    <tr>\n",
       "      <th>3</th>\n",
       "      <td>Acetyl Carnitine HCL</td>\n",
       "      <td>BEST</td>\n",
       "      <td>Functions as an antioxidant.</td>\n",
       "    </tr>\n",
       "    <tr>\n",
       "      <th>4</th>\n",
       "      <td>Acetyl Dipeptide-1 Cetyl Ester</td>\n",
       "      <td>BEST</td>\n",
       "      <td>A lab-made skin-firming peptide formed from a ...</td>\n",
       "    </tr>\n",
       "    <tr>\n",
       "      <th>...</th>\n",
       "      <td>...</td>\n",
       "      <td>...</td>\n",
       "      <td>...</td>\n",
       "    </tr>\n",
       "    <tr>\n",
       "      <th>26069</th>\n",
       "      <td>Zostera Marina Extract</td>\n",
       "      <td>NOT RATED</td>\n",
       "      <td>Functions: Skin Conditioning. We have not yet ...</td>\n",
       "    </tr>\n",
       "    <tr>\n",
       "      <th>26070</th>\n",
       "      <td>Zygophyllum Qatarense Leaf/Stem Extract</td>\n",
       "      <td>NOT RATED</td>\n",
       "      <td>Functions: Antioxidant. We have not yet rated ...</td>\n",
       "    </tr>\n",
       "    <tr>\n",
       "      <th>26071</th>\n",
       "      <td>Zygosaccharomyces Microellipsoides Ferment</td>\n",
       "      <td>NOT RATED</td>\n",
       "      <td>Functions: Humectant. We have not yet rated th...</td>\n",
       "    </tr>\n",
       "    <tr>\n",
       "      <th>26072</th>\n",
       "      <td>Zymomonas Ferment Extract</td>\n",
       "      <td>NOT RATED</td>\n",
       "      <td>Functions: Humectant, Skin Conditioning. We ha...</td>\n",
       "    </tr>\n",
       "    <tr>\n",
       "      <th>26073</th>\n",
       "      <td>Zymomonas Ferment Filtrate</td>\n",
       "      <td>NOT RATED</td>\n",
       "      <td>Functions: Humectant, Skin Conditioning. We ha...</td>\n",
       "    </tr>\n",
       "  </tbody>\n",
       "</table>\n",
       "<p>26074 rows × 3 columns</p>\n",
       "</div>"
      ],
      "text/plain": [
       "                                  ingredient_name     rating  \\\n",
       "0                         3-O Ethyl Ascorbic Acid       BEST   \n",
       "1                                            Acai       BEST   \n",
       "2                           Acerola Fruit Extract       BEST   \n",
       "3                            Acetyl Carnitine HCL       BEST   \n",
       "4                  Acetyl Dipeptide-1 Cetyl Ester       BEST   \n",
       "...                                           ...        ...   \n",
       "26069                      Zostera Marina Extract  NOT RATED   \n",
       "26070     Zygophyllum Qatarense Leaf/Stem Extract  NOT RATED   \n",
       "26071  Zygosaccharomyces Microellipsoides Ferment  NOT RATED   \n",
       "26072                   Zymomonas Ferment Extract  NOT RATED   \n",
       "26073                  Zymomonas Ferment Filtrate  NOT RATED   \n",
       "\n",
       "                                               functions  \n",
       "0      This potent antioxidant is a highly stable for...  \n",
       "1      Pronounced \"ah-sigh-ee\", this small berry has ...  \n",
       "2      This fruit extract is a potent source of antio...  \n",
       "3                           Functions as an antioxidant.  \n",
       "4      A lab-made skin-firming peptide formed from a ...  \n",
       "...                                                  ...  \n",
       "26069  Functions: Skin Conditioning. We have not yet ...  \n",
       "26070  Functions: Antioxidant. We have not yet rated ...  \n",
       "26071  Functions: Humectant. We have not yet rated th...  \n",
       "26072  Functions: Humectant, Skin Conditioning. We ha...  \n",
       "26073  Functions: Humectant, Skin Conditioning. We ha...  \n",
       "\n",
       "[26074 rows x 3 columns]"
      ]
     },
     "execution_count": 607,
     "metadata": {},
     "output_type": "execute_result"
    }
   ],
   "source": [
    "dataset2_df"
   ]
  },
  {
   "cell_type": "markdown",
   "metadata": {},
   "source": [
    "### Exploratory Data Analysis (EDA)"
   ]
  },
  {
   "cell_type": "markdown",
   "metadata": {},
   "source": [
    "#### Explore Tabel dataset1_df"
   ]
  },
  {
   "cell_type": "code",
   "execution_count": 608,
   "metadata": {},
   "outputs": [
    {
     "data": {
      "text/html": [
       "<div>\n",
       "<style scoped>\n",
       "    .dataframe tbody tr th:only-of-type {\n",
       "        vertical-align: middle;\n",
       "    }\n",
       "\n",
       "    .dataframe tbody tr th {\n",
       "        vertical-align: top;\n",
       "    }\n",
       "\n",
       "    .dataframe thead th {\n",
       "        text-align: right;\n",
       "    }\n",
       "</style>\n",
       "<table border=\"1\" class=\"dataframe\">\n",
       "  <thead>\n",
       "    <tr style=\"text-align: right;\">\n",
       "      <th></th>\n",
       "      <th>ingredient_name</th>\n",
       "      <th>rating</th>\n",
       "      <th>functions</th>\n",
       "    </tr>\n",
       "  </thead>\n",
       "  <tbody>\n",
       "    <tr>\n",
       "      <th>2828</th>\n",
       "      <td>4-Butyl-5-Methylthiazole</td>\n",
       "      <td>NOT RATED</td>\n",
       "      <td>Functions: Fragrance. We have not yet rated th...</td>\n",
       "    </tr>\n",
       "    <tr>\n",
       "      <th>25926</th>\n",
       "      <td>Yucca Schidigera Fruit</td>\n",
       "      <td>NOT RATED</td>\n",
       "      <td>Functions: Skin Protecting. We have not yet ra...</td>\n",
       "    </tr>\n",
       "    <tr>\n",
       "      <th>24780</th>\n",
       "      <td>Tipa-Myristate</td>\n",
       "      <td>NOT RATED</td>\n",
       "      <td>Functions: Cleansing Agent. We have not yet ra...</td>\n",
       "    </tr>\n",
       "    <tr>\n",
       "      <th>17297</th>\n",
       "      <td>PEG-12 Methyl Ether Lauroxy PEG-5 Amidopropyl ...</td>\n",
       "      <td>NOT RATED</td>\n",
       "      <td>Functions: Hair Conditioning. We have not yet ...</td>\n",
       "    </tr>\n",
       "    <tr>\n",
       "      <th>15483</th>\n",
       "      <td>Musa Sapientum Peel Extract</td>\n",
       "      <td>NOT RATED</td>\n",
       "      <td>Functions: Skin Conditioning. We have not yet ...</td>\n",
       "    </tr>\n",
       "  </tbody>\n",
       "</table>\n",
       "</div>"
      ],
      "text/plain": [
       "                                         ingredient_name     rating  \\\n",
       "2828                            4-Butyl-5-Methylthiazole  NOT RATED   \n",
       "25926                             Yucca Schidigera Fruit  NOT RATED   \n",
       "24780                                     Tipa-Myristate  NOT RATED   \n",
       "17297  PEG-12 Methyl Ether Lauroxy PEG-5 Amidopropyl ...  NOT RATED   \n",
       "15483                        Musa Sapientum Peel Extract  NOT RATED   \n",
       "\n",
       "                                               functions  \n",
       "2828   Functions: Fragrance. We have not yet rated th...  \n",
       "25926  Functions: Skin Protecting. We have not yet ra...  \n",
       "24780  Functions: Cleansing Agent. We have not yet ra...  \n",
       "17297  Functions: Hair Conditioning. We have not yet ...  \n",
       "15483  Functions: Skin Conditioning. We have not yet ...  "
      ]
     },
     "execution_count": 608,
     "metadata": {},
     "output_type": "execute_result"
    }
   ],
   "source": [
    "dataset1_df.sample(5)"
   ]
  },
  {
   "cell_type": "code",
   "execution_count": 609,
   "metadata": {},
   "outputs": [
    {
     "data": {
      "text/html": [
       "<div>\n",
       "<style scoped>\n",
       "    .dataframe tbody tr th:only-of-type {\n",
       "        vertical-align: middle;\n",
       "    }\n",
       "\n",
       "    .dataframe tbody tr th {\n",
       "        vertical-align: top;\n",
       "    }\n",
       "\n",
       "    .dataframe thead th {\n",
       "        text-align: right;\n",
       "    }\n",
       "</style>\n",
       "<table border=\"1\" class=\"dataframe\">\n",
       "  <thead>\n",
       "    <tr style=\"text-align: right;\">\n",
       "      <th></th>\n",
       "      <th>ingredient_name</th>\n",
       "      <th>rating</th>\n",
       "      <th>functions</th>\n",
       "    </tr>\n",
       "  </thead>\n",
       "  <tbody>\n",
       "    <tr>\n",
       "      <th>count</th>\n",
       "      <td>26087</td>\n",
       "      <td>26087</td>\n",
       "      <td>26087</td>\n",
       "    </tr>\n",
       "    <tr>\n",
       "      <th>unique</th>\n",
       "      <td>26084</td>\n",
       "      <td>6</td>\n",
       "      <td>4056</td>\n",
       "    </tr>\n",
       "    <tr>\n",
       "      <th>top</th>\n",
       "      <td>Rubus Idaeus (Raspberry) Fruit Extract</td>\n",
       "      <td>NOT RATED</td>\n",
       "      <td>Functions: Skin Conditioning. We have not yet ...</td>\n",
       "    </tr>\n",
       "    <tr>\n",
       "      <th>freq</th>\n",
       "      <td>2</td>\n",
       "      <td>23675</td>\n",
       "      <td>5642</td>\n",
       "    </tr>\n",
       "  </tbody>\n",
       "</table>\n",
       "</div>"
      ],
      "text/plain": [
       "                               ingredient_name     rating  \\\n",
       "count                                    26087      26087   \n",
       "unique                                   26084          6   \n",
       "top     Rubus Idaeus (Raspberry) Fruit Extract  NOT RATED   \n",
       "freq                                         2      23675   \n",
       "\n",
       "                                                functions  \n",
       "count                                               26087  \n",
       "unique                                               4056  \n",
       "top     Functions: Skin Conditioning. We have not yet ...  \n",
       "freq                                                 5642  "
      ]
     },
     "execution_count": 609,
     "metadata": {},
     "output_type": "execute_result"
    }
   ],
   "source": [
    "dataset1_df.describe(include=\"all\")"
   ]
  },
  {
   "cell_type": "code",
   "execution_count": 610,
   "metadata": {},
   "outputs": [
    {
     "data": {
      "text/plain": [
       "False"
      ]
     },
     "execution_count": 610,
     "metadata": {},
     "output_type": "execute_result"
    }
   ],
   "source": [
    "dataset1_df.ingredient_name.is_unique"
   ]
  },
  {
   "cell_type": "code",
   "execution_count": 611,
   "metadata": {},
   "outputs": [
    {
     "data": {
      "text/plain": [
       "<bound method Series.duplicated of 0                           3-O Ethyl Ascorbic Acid\n",
       "1                                              Acai\n",
       "2                             Acerola Fruit Extract\n",
       "3                              Acetyl Carnitine HCL\n",
       "4                    Acetyl Dipeptide-1 Cetyl Ester\n",
       "                            ...                    \n",
       "26082                        Zostera Marina Extract\n",
       "26083       Zygophyllum Qatarense Leaf/Stem Extract\n",
       "26084    Zygosaccharomyces Microellipsoides Ferment\n",
       "26085                     Zymomonas Ferment Extract\n",
       "26086                    Zymomonas Ferment Filtrate\n",
       "Name: ingredient_name, Length: 26087, dtype: object>"
      ]
     },
     "execution_count": 611,
     "metadata": {},
     "output_type": "execute_result"
    }
   ],
   "source": [
    "dataset1_df.ingredient_name.duplicated"
   ]
  },
  {
   "cell_type": "code",
   "execution_count": 612,
   "metadata": {},
   "outputs": [
    {
     "name": "stdout",
     "output_type": "stream",
     "text": [
      "                                         ingredient_name  \\\n",
      "0                                        1, 2-Hexanediol   \n",
      "1                 1,1-Dimethyl-2-Phenylethyl Isobutyrate   \n",
      "2                1,1-Dimethyl-3-Phenylpropyl Isobutyrate   \n",
      "3                                        1,10-Decanediol   \n",
      "4      1,2,3,4,4A,5,6,7-Octahydro-2,5,5-Trimethyl-2-N...   \n",
      "...                                                  ...   \n",
      "26079                          Zymomonas Ferment Extract   \n",
      "26080                         Zymomonas Ferment Filtrate   \n",
      "26081                                biosaccharide gum-1   \n",
      "26082                                        pH Adjuster   \n",
      "26083                                       polydextrose   \n",
      "\n",
      "                                               functions  \n",
      "0      1,2 hexanediol is a synthetic ingredient with ...  \n",
      "1      Functions: Fragrance. We have not yet rated th...  \n",
      "2      Functions: Fragrance. We have not yet rated th...  \n",
      "3      Functions: Solvent. We have not yet rated this...  \n",
      "4      Functions: Fragrance. We have not yet rated th...  \n",
      "...                                                  ...  \n",
      "26079  Functions: Humectant, Skin Conditioning. We ha...  \n",
      "26080  Functions: Humectant, Skin Conditioning. We ha...  \n",
      "26081  A complex sugar-derived ingredient that moistu...  \n",
      "26082  A type of ingredient used to modify the pH of ...  \n",
      "26083  A sugar-derived prebiotic polymer that has bul...  \n",
      "\n",
      "[26084 rows x 2 columns]\n"
     ]
    }
   ],
   "source": [
    "#Mengelompokkan ingredients berdasarkan fungsi\n",
    "aggregated_data = dataset1_df.groupby('ingredient_name').agg({\n",
    "    'functions': lambda x: ', '.join(set(x.dropna()))\n",
    "}).reset_index()\n",
    "print(aggregated_data)\n"
   ]
  },
  {
   "cell_type": "code",
   "execution_count": 613,
   "metadata": {},
   "outputs": [
    {
     "name": "stdout",
     "output_type": "stream",
     "text": [
      "                                                    ingredient_count\n",
      "functions                                                           \n",
      "1,2 hexanediol is a synthetic ingredient with m...                 1\n",
      "2,3-butanediol is a synthetic or plant-derived ...                 1\n",
      "A biomimetic peptide (meaning it is designed to...                 1\n",
      "A blend of amino acids from wheat protein after...                 1\n",
      "A blend of fermented filtrates from green tea, ...                 1\n",
      "...                                                              ...\n",
      "Yellow 5 lake is synthetic coloring agent appro...                 1\n",
      "Zinc gluconate is the zinc salt of gluconic aci...                 1\n",
      "myristamidopropyl PG-dimonium chloride phosphat...                 1\n",
      "pH adjusting ingredient used to help neutralize...                 1\n",
      "“Incidentals” refers to any ingredients in cosm...                 1\n",
      "\n",
      "[4056 rows x 1 columns]\n"
     ]
    }
   ],
   "source": [
    "#Menggabungkan fungsi yang sama untuk setiap ingredients\n",
    "grouped = dataset1_df.groupby('functions').agg({\n",
    "    'ingredient_name': 'count'\n",
    "}).rename(columns={'ingredient_name': 'ingredient_count'})\n",
    "print(grouped)\n"
   ]
  },
  {
   "cell_type": "markdown",
   "metadata": {},
   "source": [
    "#### Explore Tabel dataset2_df"
   ]
  },
  {
   "cell_type": "code",
   "execution_count": 614,
   "metadata": {},
   "outputs": [
    {
     "data": {
      "text/html": [
       "<div>\n",
       "<style scoped>\n",
       "    .dataframe tbody tr th:only-of-type {\n",
       "        vertical-align: middle;\n",
       "    }\n",
       "\n",
       "    .dataframe tbody tr th {\n",
       "        vertical-align: top;\n",
       "    }\n",
       "\n",
       "    .dataframe thead th {\n",
       "        text-align: right;\n",
       "    }\n",
       "</style>\n",
       "<table border=\"1\" class=\"dataframe\">\n",
       "  <thead>\n",
       "    <tr style=\"text-align: right;\">\n",
       "      <th></th>\n",
       "      <th>ingredient_name</th>\n",
       "      <th>rating</th>\n",
       "      <th>functions</th>\n",
       "    </tr>\n",
       "  </thead>\n",
       "  <tbody>\n",
       "    <tr>\n",
       "      <th>10257</th>\n",
       "      <td>Ethyl Polysilicate</td>\n",
       "      <td>NOT RATED</td>\n",
       "      <td>Functions: Film Forming. We have not yet rated...</td>\n",
       "    </tr>\n",
       "    <tr>\n",
       "      <th>14164</th>\n",
       "      <td>Linalylformate</td>\n",
       "      <td>NOT RATED</td>\n",
       "      <td>Functions: Fragrance. We have not yet rated th...</td>\n",
       "    </tr>\n",
       "    <tr>\n",
       "      <th>6041</th>\n",
       "      <td>Calcium Hydrolyzed Collagen</td>\n",
       "      <td>NOT RATED</td>\n",
       "      <td>Functions: Hair Conditioning, Skin Conditionin...</td>\n",
       "    </tr>\n",
       "    <tr>\n",
       "      <th>13484</th>\n",
       "      <td>Kojyl Carboxy Sh-Oligopeptide-75 Amide</td>\n",
       "      <td>NOT RATED</td>\n",
       "      <td>Functions: Antioxidant, Skin Conditioning, Ski...</td>\n",
       "    </tr>\n",
       "    <tr>\n",
       "      <th>2535</th>\n",
       "      <td>2-Amino-4-Hydroxyethylaminoanisole</td>\n",
       "      <td>NOT RATED</td>\n",
       "      <td>Functions: Hair Dyeing. We have not yet rated ...</td>\n",
       "    </tr>\n",
       "  </tbody>\n",
       "</table>\n",
       "</div>"
      ],
      "text/plain": [
       "                              ingredient_name     rating  \\\n",
       "10257                      Ethyl Polysilicate  NOT RATED   \n",
       "14164                          Linalylformate  NOT RATED   \n",
       "6041              Calcium Hydrolyzed Collagen  NOT RATED   \n",
       "13484  Kojyl Carboxy Sh-Oligopeptide-75 Amide  NOT RATED   \n",
       "2535       2-Amino-4-Hydroxyethylaminoanisole  NOT RATED   \n",
       "\n",
       "                                               functions  \n",
       "10257  Functions: Film Forming. We have not yet rated...  \n",
       "14164  Functions: Fragrance. We have not yet rated th...  \n",
       "6041   Functions: Hair Conditioning, Skin Conditionin...  \n",
       "13484  Functions: Antioxidant, Skin Conditioning, Ski...  \n",
       "2535   Functions: Hair Dyeing. We have not yet rated ...  "
      ]
     },
     "execution_count": 614,
     "metadata": {},
     "output_type": "execute_result"
    }
   ],
   "source": [
    "dataset2_df.sample(5)"
   ]
  },
  {
   "cell_type": "code",
   "execution_count": 615,
   "metadata": {},
   "outputs": [
    {
     "data": {
      "text/html": [
       "<div>\n",
       "<style scoped>\n",
       "    .dataframe tbody tr th:only-of-type {\n",
       "        vertical-align: middle;\n",
       "    }\n",
       "\n",
       "    .dataframe tbody tr th {\n",
       "        vertical-align: top;\n",
       "    }\n",
       "\n",
       "    .dataframe thead th {\n",
       "        text-align: right;\n",
       "    }\n",
       "</style>\n",
       "<table border=\"1\" class=\"dataframe\">\n",
       "  <thead>\n",
       "    <tr style=\"text-align: right;\">\n",
       "      <th></th>\n",
       "      <th>ingredient_name</th>\n",
       "      <th>rating</th>\n",
       "      <th>functions</th>\n",
       "    </tr>\n",
       "  </thead>\n",
       "  <tbody>\n",
       "    <tr>\n",
       "      <th>count</th>\n",
       "      <td>26074</td>\n",
       "      <td>26074</td>\n",
       "      <td>26074</td>\n",
       "    </tr>\n",
       "    <tr>\n",
       "      <th>unique</th>\n",
       "      <td>26074</td>\n",
       "      <td>6</td>\n",
       "      <td>4045</td>\n",
       "    </tr>\n",
       "    <tr>\n",
       "      <th>top</th>\n",
       "      <td>Zymomonas Ferment Filtrate</td>\n",
       "      <td>NOT RATED</td>\n",
       "      <td>Functions: Skin Conditioning. We have not yet ...</td>\n",
       "    </tr>\n",
       "    <tr>\n",
       "      <th>freq</th>\n",
       "      <td>1</td>\n",
       "      <td>23675</td>\n",
       "      <td>5642</td>\n",
       "    </tr>\n",
       "  </tbody>\n",
       "</table>\n",
       "</div>"
      ],
      "text/plain": [
       "                   ingredient_name     rating  \\\n",
       "count                        26074      26074   \n",
       "unique                       26074          6   \n",
       "top     Zymomonas Ferment Filtrate  NOT RATED   \n",
       "freq                             1      23675   \n",
       "\n",
       "                                                functions  \n",
       "count                                               26074  \n",
       "unique                                               4045  \n",
       "top     Functions: Skin Conditioning. We have not yet ...  \n",
       "freq                                                 5642  "
      ]
     },
     "execution_count": 615,
     "metadata": {},
     "output_type": "execute_result"
    }
   ],
   "source": [
    "dataset2_df.describe(include=\"all\")"
   ]
  },
  {
   "cell_type": "code",
   "execution_count": 616,
   "metadata": {},
   "outputs": [
    {
     "data": {
      "text/plain": [
       "True"
      ]
     },
     "execution_count": 616,
     "metadata": {},
     "output_type": "execute_result"
    }
   ],
   "source": [
    "dataset2_df.ingredient_name.is_unique"
   ]
  },
  {
   "cell_type": "code",
   "execution_count": 617,
   "metadata": {},
   "outputs": [
    {
     "data": {
      "text/plain": [
       "<bound method Series.duplicated of 0                           3-O Ethyl Ascorbic Acid\n",
       "1                                              Acai\n",
       "2                             Acerola Fruit Extract\n",
       "3                              Acetyl Carnitine HCL\n",
       "4                    Acetyl Dipeptide-1 Cetyl Ester\n",
       "                            ...                    \n",
       "26069                        Zostera Marina Extract\n",
       "26070       Zygophyllum Qatarense Leaf/Stem Extract\n",
       "26071    Zygosaccharomyces Microellipsoides Ferment\n",
       "26072                     Zymomonas Ferment Extract\n",
       "26073                    Zymomonas Ferment Filtrate\n",
       "Name: ingredient_name, Length: 26074, dtype: object>"
      ]
     },
     "execution_count": 617,
     "metadata": {},
     "output_type": "execute_result"
    }
   ],
   "source": [
    "dataset2_df.ingredient_name.duplicated"
   ]
  },
  {
   "cell_type": "code",
   "execution_count": 618,
   "metadata": {},
   "outputs": [
    {
     "name": "stdout",
     "output_type": "stream",
     "text": [
      "                                         ingredient_name  \\\n",
      "0                                        1, 2-Hexanediol   \n",
      "1                 1,1-Dimethyl-2-Phenylethyl Isobutyrate   \n",
      "2                1,1-Dimethyl-3-Phenylpropyl Isobutyrate   \n",
      "3                                        1,10-Decanediol   \n",
      "4      1,2,3,4,4A,5,6,7-Octahydro-2,5,5-Trimethyl-2-N...   \n",
      "...                                                  ...   \n",
      "26069                          Zymomonas Ferment Extract   \n",
      "26070                         Zymomonas Ferment Filtrate   \n",
      "26071                                biosaccharide gum-1   \n",
      "26072                                        pH Adjuster   \n",
      "26073                                       polydextrose   \n",
      "\n",
      "                                               functions  \n",
      "0      1,2 hexanediol is a synthetic ingredient with ...  \n",
      "1      Functions: Fragrance. We have not yet rated th...  \n",
      "2      Functions: Fragrance. We have not yet rated th...  \n",
      "3      Functions: Solvent. We have not yet rated this...  \n",
      "4      Functions: Fragrance. We have not yet rated th...  \n",
      "...                                                  ...  \n",
      "26069  Functions: Humectant, Skin Conditioning. We ha...  \n",
      "26070  Functions: Humectant, Skin Conditioning. We ha...  \n",
      "26071  A complex sugar-derived ingredient that moistu...  \n",
      "26072  A type of ingredient used to modify the pH of ...  \n",
      "26073  A sugar-derived prebiotic polymer that has bul...  \n",
      "\n",
      "[26074 rows x 2 columns]\n"
     ]
    }
   ],
   "source": [
    "#Mengelompokkan ingredients berdasarkan fungsi\n",
    "aggregated_data = dataset2_df.groupby('ingredient_name').agg({\n",
    "    'functions': lambda x: ', '.join(set(x.dropna()))\n",
    "}).reset_index()\n",
    "print(aggregated_data)"
   ]
  },
  {
   "cell_type": "code",
   "execution_count": 619,
   "metadata": {},
   "outputs": [
    {
     "name": "stdout",
     "output_type": "stream",
     "text": [
      "                                                    ingredient_count\n",
      "functions                                                           \n",
      "1,2 hexanediol is a synthetic ingredient with m...                 1\n",
      "2,3-butanediol is a synthetic or plant-derived ...                 1\n",
      "A biomimetic peptide (meaning it is designed to...                 1\n",
      "A blend of amino acids from wheat protein after...                 1\n",
      "A blend of fermented filtrates from green tea, ...                 1\n",
      "...                                                              ...\n",
      "Yellow 5 lake is synthetic coloring agent appro...                 1\n",
      "Zinc gluconate is the zinc salt of gluconic aci...                 1\n",
      "myristamidopropyl PG-dimonium chloride phosphat...                 1\n",
      "pH adjusting ingredient used to help neutralize...                 1\n",
      "“Incidentals” refers to any ingredients in cosm...                 1\n",
      "\n",
      "[4045 rows x 1 columns]\n"
     ]
    }
   ],
   "source": [
    "#Menggabungkan fungsi yang sama untuk setiap ingredients\n",
    "grouped = dataset2_df.groupby('functions').agg({\n",
    "    'ingredient_name': 'count'\n",
    "}).rename(columns={'ingredient_name': 'ingredient_count'})\n",
    "print(grouped)"
   ]
  },
  {
   "cell_type": "markdown",
   "metadata": {},
   "source": [
    "##### Menggabungkan dataset1 dan dataset2"
   ]
  },
  {
   "cell_type": "code",
   "execution_count": 620,
   "metadata": {},
   "outputs": [
    {
     "data": {
      "text/html": [
       "<div>\n",
       "<style scoped>\n",
       "    .dataframe tbody tr th:only-of-type {\n",
       "        vertical-align: middle;\n",
       "    }\n",
       "\n",
       "    .dataframe tbody tr th {\n",
       "        vertical-align: top;\n",
       "    }\n",
       "\n",
       "    .dataframe thead th {\n",
       "        text-align: right;\n",
       "    }\n",
       "</style>\n",
       "<table border=\"1\" class=\"dataframe\">\n",
       "  <thead>\n",
       "    <tr style=\"text-align: right;\">\n",
       "      <th></th>\n",
       "      <th>ingredient_name</th>\n",
       "      <th>rating</th>\n",
       "      <th>functions</th>\n",
       "    </tr>\n",
       "  </thead>\n",
       "  <tbody>\n",
       "    <tr>\n",
       "      <th>0</th>\n",
       "      <td>3-O Ethyl Ascorbic Acid</td>\n",
       "      <td>BEST</td>\n",
       "      <td>This potent antioxidant is a highly stable for...</td>\n",
       "    </tr>\n",
       "    <tr>\n",
       "      <th>1</th>\n",
       "      <td>Acai</td>\n",
       "      <td>BEST</td>\n",
       "      <td>Pronounced \"ah-sigh-ee\", this small berry has ...</td>\n",
       "    </tr>\n",
       "    <tr>\n",
       "      <th>2</th>\n",
       "      <td>Acerola Fruit Extract</td>\n",
       "      <td>BEST</td>\n",
       "      <td>This fruit extract is a potent source of antio...</td>\n",
       "    </tr>\n",
       "    <tr>\n",
       "      <th>3</th>\n",
       "      <td>Acetyl Carnitine HCL</td>\n",
       "      <td>BEST</td>\n",
       "      <td>Functions as an antioxidant.</td>\n",
       "    </tr>\n",
       "    <tr>\n",
       "      <th>4</th>\n",
       "      <td>Acetyl Dipeptide-1 Cetyl Ester</td>\n",
       "      <td>BEST</td>\n",
       "      <td>A lab-made skin-firming peptide formed from a ...</td>\n",
       "    </tr>\n",
       "    <tr>\n",
       "      <th>...</th>\n",
       "      <td>...</td>\n",
       "      <td>...</td>\n",
       "      <td>...</td>\n",
       "    </tr>\n",
       "    <tr>\n",
       "      <th>52156</th>\n",
       "      <td>Zostera Marina Extract</td>\n",
       "      <td>NOT RATED</td>\n",
       "      <td>Functions: Skin Conditioning. We have not yet ...</td>\n",
       "    </tr>\n",
       "    <tr>\n",
       "      <th>52157</th>\n",
       "      <td>Zygophyllum Qatarense Leaf/Stem Extract</td>\n",
       "      <td>NOT RATED</td>\n",
       "      <td>Functions: Antioxidant. We have not yet rated ...</td>\n",
       "    </tr>\n",
       "    <tr>\n",
       "      <th>52158</th>\n",
       "      <td>Zygosaccharomyces Microellipsoides Ferment</td>\n",
       "      <td>NOT RATED</td>\n",
       "      <td>Functions: Humectant. We have not yet rated th...</td>\n",
       "    </tr>\n",
       "    <tr>\n",
       "      <th>52159</th>\n",
       "      <td>Zymomonas Ferment Extract</td>\n",
       "      <td>NOT RATED</td>\n",
       "      <td>Functions: Humectant, Skin Conditioning. We ha...</td>\n",
       "    </tr>\n",
       "    <tr>\n",
       "      <th>52160</th>\n",
       "      <td>Zymomonas Ferment Filtrate</td>\n",
       "      <td>NOT RATED</td>\n",
       "      <td>Functions: Humectant, Skin Conditioning. We ha...</td>\n",
       "    </tr>\n",
       "  </tbody>\n",
       "</table>\n",
       "<p>52161 rows × 3 columns</p>\n",
       "</div>"
      ],
      "text/plain": [
       "                                  ingredient_name     rating  \\\n",
       "0                         3-O Ethyl Ascorbic Acid       BEST   \n",
       "1                                            Acai       BEST   \n",
       "2                           Acerola Fruit Extract       BEST   \n",
       "3                            Acetyl Carnitine HCL       BEST   \n",
       "4                  Acetyl Dipeptide-1 Cetyl Ester       BEST   \n",
       "...                                           ...        ...   \n",
       "52156                      Zostera Marina Extract  NOT RATED   \n",
       "52157     Zygophyllum Qatarense Leaf/Stem Extract  NOT RATED   \n",
       "52158  Zygosaccharomyces Microellipsoides Ferment  NOT RATED   \n",
       "52159                   Zymomonas Ferment Extract  NOT RATED   \n",
       "52160                  Zymomonas Ferment Filtrate  NOT RATED   \n",
       "\n",
       "                                               functions  \n",
       "0      This potent antioxidant is a highly stable for...  \n",
       "1      Pronounced \"ah-sigh-ee\", this small berry has ...  \n",
       "2      This fruit extract is a potent source of antio...  \n",
       "3                           Functions as an antioxidant.  \n",
       "4      A lab-made skin-firming peptide formed from a ...  \n",
       "...                                                  ...  \n",
       "52156  Functions: Skin Conditioning. We have not yet ...  \n",
       "52157  Functions: Antioxidant. We have not yet rated ...  \n",
       "52158  Functions: Humectant. We have not yet rated th...  \n",
       "52159  Functions: Humectant, Skin Conditioning. We ha...  \n",
       "52160  Functions: Humectant, Skin Conditioning. We ha...  \n",
       "\n",
       "[52161 rows x 3 columns]"
      ]
     },
     "execution_count": 620,
     "metadata": {},
     "output_type": "execute_result"
    }
   ],
   "source": [
    "datasetAll_df = pd.concat([dataset1_df, dataset2_df], axis=0, ignore_index=True)\n",
    "datasetAll_df"
   ]
  },
  {
   "cell_type": "markdown",
   "metadata": {},
   "source": [
    "#### Lowercasing, menghapus karakter khusus, dan tokenisasi\n"
   ]
  },
  {
   "cell_type": "code",
   "execution_count": 621,
   "metadata": {},
   "outputs": [],
   "source": [
    "def clean_text(text):\n",
    "    if isinstance(text, str):\n",
    "        # Lowercasing\n",
    "        text = text.lower()\n",
    "        # Menghapus karakter khusus\n",
    "        text = re.sub(r'[^a-zA-Z\\s]', '', text)\n",
    "        # Menghapus spasi berlebih\n",
    "        text = re.sub(r'\\s+', ' ', text).strip()\n",
    "    return text"
   ]
  },
  {
   "cell_type": "code",
   "execution_count": 622,
   "metadata": {},
   "outputs": [],
   "source": [
    "datasetAll_df['ingredient_name'] = datasetAll_df['ingredient_name'].apply(clean_text)\n",
    "datasetAll_df['functions'] =  datasetAll_df['functions'].apply(clean_text)"
   ]
  },
  {
   "cell_type": "code",
   "execution_count": 623,
   "metadata": {},
   "outputs": [],
   "source": [
    "sentences = []\n",
    "labels = []\n",
    "stopwords = [ \"a\", \"an\", \"in\", \"is\", \"the\", \"and\", \"also\", \"there\" ]"
   ]
  },
  {
   "cell_type": "markdown",
   "metadata": {},
   "source": [
    "### Menghapus stopwords dan melakukan lemmatization"
   ]
  },
  {
   "cell_type": "code",
   "execution_count": 624,
   "metadata": {},
   "outputs": [],
   "source": [
    "def preprocess_text(text):\n",
    "    if isinstance(text, str):\n",
    "        # Tokenisasi\n",
    "        tokens = text.split()\n",
    "        # Menghapus stopwords dan lemmatization\n",
    "        processed_tokens = [lemmatizer.lemmatize(word) for word in tokens if word not in stop_words]\n",
    "        return ' '.join(processed_tokens)\n",
    "    return text"
   ]
  },
  {
   "cell_type": "code",
   "execution_count": 625,
   "metadata": {},
   "outputs": [],
   "source": [
    "datasetAll_df['functions'] = datasetAll_df['functions'].apply(preprocess_text)"
   ]
  },
  {
   "cell_type": "markdown",
   "metadata": {},
   "source": [
    "### Export Clean Dataset"
   ]
  },
  {
   "cell_type": "code",
   "execution_count": 626,
   "metadata": {},
   "outputs": [],
   "source": [
    "# Menyimpan dataset ke file CSV\n",
    "datasetAll_df.to_csv(\"Dataset clean/datasetAll.csv\", index=False)\n"
   ]
  },
  {
   "cell_type": "code",
   "execution_count": 627,
   "metadata": {},
   "outputs": [],
   "source": [
    "dataset1_df.to_csv(\"Dataset clean/dataset1_clean.csv\", index=False)\n",
    "dataset2_df.to_csv(\"Dataset clean/dataset2_clean.csv\", index=False)"
   ]
  },
  {
   "cell_type": "markdown",
   "metadata": {},
   "source": [
    "### Pre-processing"
   ]
  },
  {
   "cell_type": "code",
   "execution_count": 628,
   "metadata": {},
   "outputs": [
    {
     "data": {
      "text/html": [
       "<div>\n",
       "<style scoped>\n",
       "    .dataframe tbody tr th:only-of-type {\n",
       "        vertical-align: middle;\n",
       "    }\n",
       "\n",
       "    .dataframe tbody tr th {\n",
       "        vertical-align: top;\n",
       "    }\n",
       "\n",
       "    .dataframe thead th {\n",
       "        text-align: right;\n",
       "    }\n",
       "</style>\n",
       "<table border=\"1\" class=\"dataframe\">\n",
       "  <thead>\n",
       "    <tr style=\"text-align: right;\">\n",
       "      <th></th>\n",
       "      <th>ingredient_name</th>\n",
       "      <th>rating</th>\n",
       "      <th>functions</th>\n",
       "    </tr>\n",
       "  </thead>\n",
       "  <tbody>\n",
       "    <tr>\n",
       "      <th>0</th>\n",
       "      <td>o ethyl ascorbic acid</td>\n",
       "      <td>BEST</td>\n",
       "      <td>potent antioxidant highly stable form vitamin ...</td>\n",
       "    </tr>\n",
       "    <tr>\n",
       "      <th>1</th>\n",
       "      <td>acai</td>\n",
       "      <td>BEST</td>\n",
       "      <td>pronounced ahsighee small berry deep purple co...</td>\n",
       "    </tr>\n",
       "    <tr>\n",
       "      <th>2</th>\n",
       "      <td>acerola fruit extract</td>\n",
       "      <td>BEST</td>\n",
       "      <td>fruit extract potent source antioxidant hydrat...</td>\n",
       "    </tr>\n",
       "    <tr>\n",
       "      <th>3</th>\n",
       "      <td>acetyl carnitine hcl</td>\n",
       "      <td>BEST</td>\n",
       "      <td>function antioxidant</td>\n",
       "    </tr>\n",
       "    <tr>\n",
       "      <th>4</th>\n",
       "      <td>acetyl dipeptide cetyl ester</td>\n",
       "      <td>BEST</td>\n",
       "      <td>labmade skinfirming peptide formed reaction ac...</td>\n",
       "    </tr>\n",
       "    <tr>\n",
       "      <th>...</th>\n",
       "      <td>...</td>\n",
       "      <td>...</td>\n",
       "      <td>...</td>\n",
       "    </tr>\n",
       "    <tr>\n",
       "      <th>52156</th>\n",
       "      <td>zostera marina extract</td>\n",
       "      <td>NOT RATED</td>\n",
       "      <td>function skin conditioning yet rated ingredien...</td>\n",
       "    </tr>\n",
       "    <tr>\n",
       "      <th>52157</th>\n",
       "      <td>zygophyllum qatarense leafstem extract</td>\n",
       "      <td>NOT RATED</td>\n",
       "      <td>function antioxidant yet rated ingredient chan...</td>\n",
       "    </tr>\n",
       "    <tr>\n",
       "      <th>52158</th>\n",
       "      <td>zygosaccharomyces microellipsoides ferment</td>\n",
       "      <td>NOT RATED</td>\n",
       "      <td>function humectant yet rated ingredient chance...</td>\n",
       "    </tr>\n",
       "    <tr>\n",
       "      <th>52159</th>\n",
       "      <td>zymomonas ferment extract</td>\n",
       "      <td>NOT RATED</td>\n",
       "      <td>function humectant skin conditioning yet rated...</td>\n",
       "    </tr>\n",
       "    <tr>\n",
       "      <th>52160</th>\n",
       "      <td>zymomonas ferment filtrate</td>\n",
       "      <td>NOT RATED</td>\n",
       "      <td>function humectant skin conditioning yet rated...</td>\n",
       "    </tr>\n",
       "  </tbody>\n",
       "</table>\n",
       "<p>52161 rows × 3 columns</p>\n",
       "</div>"
      ],
      "text/plain": [
       "                                  ingredient_name     rating  \\\n",
       "0                           o ethyl ascorbic acid       BEST   \n",
       "1                                            acai       BEST   \n",
       "2                           acerola fruit extract       BEST   \n",
       "3                            acetyl carnitine hcl       BEST   \n",
       "4                    acetyl dipeptide cetyl ester       BEST   \n",
       "...                                           ...        ...   \n",
       "52156                      zostera marina extract  NOT RATED   \n",
       "52157      zygophyllum qatarense leafstem extract  NOT RATED   \n",
       "52158  zygosaccharomyces microellipsoides ferment  NOT RATED   \n",
       "52159                   zymomonas ferment extract  NOT RATED   \n",
       "52160                  zymomonas ferment filtrate  NOT RATED   \n",
       "\n",
       "                                               functions  \n",
       "0      potent antioxidant highly stable form vitamin ...  \n",
       "1      pronounced ahsighee small berry deep purple co...  \n",
       "2      fruit extract potent source antioxidant hydrat...  \n",
       "3                                   function antioxidant  \n",
       "4      labmade skinfirming peptide formed reaction ac...  \n",
       "...                                                  ...  \n",
       "52156  function skin conditioning yet rated ingredien...  \n",
       "52157  function antioxidant yet rated ingredient chan...  \n",
       "52158  function humectant yet rated ingredient chance...  \n",
       "52159  function humectant skin conditioning yet rated...  \n",
       "52160  function humectant skin conditioning yet rated...  \n",
       "\n",
       "[52161 rows x 3 columns]"
      ]
     },
     "execution_count": 628,
     "metadata": {},
     "output_type": "execute_result"
    }
   ],
   "source": [
    "# import data\n",
    "datasetAll_df = pd.read_csv('Dataset clean/datasetAll.csv')\n",
    "datasetAll_df #show data below"
   ]
  },
  {
   "cell_type": "code",
   "execution_count": 629,
   "metadata": {},
   "outputs": [
    {
     "name": "stdout",
     "output_type": "stream",
     "text": [
      "['BEST' 'GOOD' 'AVERAGE' 'BAD' 'WORST' 'NOT RATED']\n"
     ]
    }
   ],
   "source": [
    "print(datasetAll_df['rating'].unique())"
   ]
  },
  {
   "cell_type": "code",
   "execution_count": 630,
   "metadata": {},
   "outputs": [
    {
     "name": "stderr",
     "output_type": "stream",
     "text": [
      "C:\\Users\\use\\AppData\\Local\\Temp\\ipykernel_2104\\567315464.py:11: FutureWarning: Downcasting behavior in `replace` is deprecated and will be removed in a future version. To retain the old behavior, explicitly call `result.infer_objects(copy=False)`. To opt-in to the future behavior, set `pd.set_option('future.no_silent_downcasting', True)`\n",
      "  datasetAll_df['rating'] = datasetAll_df['rating'].replace(rating_mapping)\n"
     ]
    }
   ],
   "source": [
    "# Mengonversi nilai non-numerik ke angka\n",
    "rating_mapping = {\n",
    "    'BEST': 6,\n",
    "    'GOOD': 5,\n",
    "    'AVERAGE': 4,\n",
    "    'BAD': 3,\n",
    "    'WORST':2,\n",
    "    'NOT RATED':1\n",
    "}\n",
    "\n",
    "datasetAll_df['rating'] = datasetAll_df['rating'].replace(rating_mapping)"
   ]
  },
  {
   "cell_type": "code",
   "execution_count": 631,
   "metadata": {},
   "outputs": [],
   "source": [
    "# Hapus baris yang tidak sesuai dengan konteks\n",
    "datasetAll_df = datasetAll_df[datasetAll_df['rating'].apply(lambda x: str(x).isnumeric() or x in rating_mapping.keys())]\n"
   ]
  },
  {
   "cell_type": "code",
   "execution_count": 632,
   "metadata": {},
   "outputs": [],
   "source": [
    "datasetAll_df['rating'] = pd.to_numeric(datasetAll_df['rating'], errors='coerce')"
   ]
  },
  {
   "cell_type": "code",
   "execution_count": 633,
   "metadata": {},
   "outputs": [
    {
     "name": "stdout",
     "output_type": "stream",
     "text": [
      "Train size: (41728, 1)\n",
      "Test size: (10433, 1)\n"
     ]
    }
   ],
   "source": [
    "# Encoding categorical data (jika ada kolom kategori)\n",
    "from sklearn.preprocessing import LabelEncoder\n",
    "\n",
    "# Misal kolom 'functions' merupakan data kategori\n",
    "le = LabelEncoder()\n",
    "datasetAll_df['functions'] = le.fit_transform(datasetAll_df['functions'])\n",
    "\n",
    "# Normalisasi atau Standardisasi data numerik\n",
    "scaler = StandardScaler()\n",
    "\n",
    "# Misalkan kolom numerik adalah ['rating'] (pastikan kolom ini ada)\n",
    "datasetAll_df[['rating']] = scaler.fit_transform(datasetAll_df[['rating']])\n",
    "\n",
    "# Split dataset menjadi train dan test\n",
    "X = datasetAll_df.drop(columns=['ingredient_name', 'functions'])  # Fitur (tanpa target)\n",
    "y = datasetAll_df['functions']  # Target (misalnya 'functions')\n",
    "\n",
    "X_train, X_test, y_train, y_test = train_test_split(X, y, test_size=0.2, random_state=42)\n",
    "\n",
    "# Periksa ukuran data\n",
    "print(\"Train size:\", X_train.shape)\n",
    "print(\"Test size:\", X_test.shape)"
   ]
  },
  {
   "cell_type": "code",
   "execution_count": 634,
   "metadata": {},
   "outputs": [
    {
     "data": {
      "text/html": [
       "<div>\n",
       "<style scoped>\n",
       "    .dataframe tbody tr th:only-of-type {\n",
       "        vertical-align: middle;\n",
       "    }\n",
       "\n",
       "    .dataframe tbody tr th {\n",
       "        vertical-align: top;\n",
       "    }\n",
       "\n",
       "    .dataframe thead th {\n",
       "        text-align: right;\n",
       "    }\n",
       "</style>\n",
       "<table border=\"1\" class=\"dataframe\">\n",
       "  <thead>\n",
       "    <tr style=\"text-align: right;\">\n",
       "      <th></th>\n",
       "      <th>ingredient_name</th>\n",
       "      <th>rating</th>\n",
       "      <th>functions</th>\n",
       "    </tr>\n",
       "  </thead>\n",
       "  <tbody>\n",
       "    <tr>\n",
       "      <th>0</th>\n",
       "      <td>o ethyl ascorbic acid</td>\n",
       "      <td>3.937776</td>\n",
       "      <td>3388</td>\n",
       "    </tr>\n",
       "    <tr>\n",
       "      <th>1</th>\n",
       "      <td>acai</td>\n",
       "      <td>3.937776</td>\n",
       "      <td>3427</td>\n",
       "    </tr>\n",
       "    <tr>\n",
       "      <th>2</th>\n",
       "      <td>acerola fruit extract</td>\n",
       "      <td>3.937776</td>\n",
       "      <td>799</td>\n",
       "    </tr>\n",
       "    <tr>\n",
       "      <th>3</th>\n",
       "      <td>acetyl carnitine hcl</td>\n",
       "      <td>3.937776</td>\n",
       "      <td>1168</td>\n",
       "    </tr>\n",
       "    <tr>\n",
       "      <th>4</th>\n",
       "      <td>acetyl dipeptide cetyl ester</td>\n",
       "      <td>3.937776</td>\n",
       "      <td>2847</td>\n",
       "    </tr>\n",
       "    <tr>\n",
       "      <th>...</th>\n",
       "      <td>...</td>\n",
       "      <td>...</td>\n",
       "      <td>...</td>\n",
       "    </tr>\n",
       "    <tr>\n",
       "      <th>52156</th>\n",
       "      <td>zostera marina extract</td>\n",
       "      <td>-0.302609</td>\n",
       "      <td>2631</td>\n",
       "    </tr>\n",
       "    <tr>\n",
       "      <th>52157</th>\n",
       "      <td>zygophyllum qatarense leafstem extract</td>\n",
       "      <td>-0.302609</td>\n",
       "      <td>1363</td>\n",
       "    </tr>\n",
       "    <tr>\n",
       "      <th>52158</th>\n",
       "      <td>zygosaccharomyces microellipsoides ferment</td>\n",
       "      <td>-0.302609</td>\n",
       "      <td>2466</td>\n",
       "    </tr>\n",
       "    <tr>\n",
       "      <th>52159</th>\n",
       "      <td>zymomonas ferment extract</td>\n",
       "      <td>-0.302609</td>\n",
       "      <td>2458</td>\n",
       "    </tr>\n",
       "    <tr>\n",
       "      <th>52160</th>\n",
       "      <td>zymomonas ferment filtrate</td>\n",
       "      <td>-0.302609</td>\n",
       "      <td>2458</td>\n",
       "    </tr>\n",
       "  </tbody>\n",
       "</table>\n",
       "<p>52161 rows × 3 columns</p>\n",
       "</div>"
      ],
      "text/plain": [
       "                                  ingredient_name    rating  functions\n",
       "0                           o ethyl ascorbic acid  3.937776       3388\n",
       "1                                            acai  3.937776       3427\n",
       "2                           acerola fruit extract  3.937776        799\n",
       "3                            acetyl carnitine hcl  3.937776       1168\n",
       "4                    acetyl dipeptide cetyl ester  3.937776       2847\n",
       "...                                           ...       ...        ...\n",
       "52156                      zostera marina extract -0.302609       2631\n",
       "52157      zygophyllum qatarense leafstem extract -0.302609       1363\n",
       "52158  zygosaccharomyces microellipsoides ferment -0.302609       2466\n",
       "52159                   zymomonas ferment extract -0.302609       2458\n",
       "52160                  zymomonas ferment filtrate -0.302609       2458\n",
       "\n",
       "[52161 rows x 3 columns]"
      ]
     },
     "execution_count": 634,
     "metadata": {},
     "output_type": "execute_result"
    }
   ],
   "source": [
    "datasetAll_df"
   ]
  },
  {
   "cell_type": "code",
   "execution_count": 635,
   "metadata": {},
   "outputs": [],
   "source": [
    "X_train.to_csv(\"Dataset clean/X_train.csv\", index=False)\n",
    "X_test.to_csv(\"Dataset clean/X_test.csv\", index=False)\n",
    "y_train.to_csv(\"Dataset clean/y_train.csv\", index=False)\n",
    "y_test.to_csv(\"Dataset clean/y_test.csv\", index=False)"
   ]
  },
  {
   "cell_type": "markdown",
   "metadata": {},
   "source": [
    "### Prepare the dataset for training"
   ]
  },
  {
   "cell_type": "code",
   "execution_count": 640,
   "metadata": {},
   "outputs": [],
   "source": [
    "vocab_size = 15000\n",
    "embedding_dim = 32\n",
    "max_length = 200\n",
    "trunc_type='post'\n",
    "padding_type='post'\n",
    "oov_token = \"<OOV>\"\n",
    "training_portion = 0.8"
   ]
  },
  {
   "cell_type": "code",
   "execution_count": 644,
   "metadata": {},
   "outputs": [],
   "source": [
    "# Tokenizer\n",
    "tokenizer = Tokenizer(num_words=vocab_size, oov_token=oov_token)\n",
    "tokenizer.fit_on_texts(X_train)\n",
    "\n",
    "# Convert text to sequences\n",
    "train_sequences = tokenizer.texts_to_sequences(X_train)\n",
    "test_sequences = tokenizer.texts_to_sequences(X_test)\n",
    "\n",
    "# Padding sequences\n",
    "train_padded = pad_sequences(train_sequences, maxlen=max_length, padding=padding_type, truncating=trunc_type)\n",
    "test_padded = pad_sequences(test_sequences, maxlen=max_length, padding=padding_type, truncating=trunc_type)\n",
    "\n",
    "# Convert labels to numpy arrays\n",
    "train_labels = np.array(y_train)\n",
    "test_labels = np.array(y_test)"
   ]
  },
  {
   "cell_type": "code",
   "execution_count": 645,
   "metadata": {},
   "outputs": [],
   "source": [
    "with open(\"Dataset clean/datasetAll.csv\", 'r', encoding='utf-8') as csvfile:\n",
    "    reader = csv.reader(csvfile, delimiter=',')\n",
    "    next(reader)\n",
    "    for row in reader:\n",
    "        labels.append(row[0])\n",
    "        sentence = row[1]\n",
    "        for word in stopwords:\n",
    "            token = \" \" + word + \" \"\n",
    "            sentence = sentence.replace(token, \" \")\n",
    "        sentences.append(sentence)"
   ]
  },
  {
   "cell_type": "code",
   "execution_count": 646,
   "metadata": {},
   "outputs": [],
   "source": [
    "file_path = 'Dataset clean/datasetAll.csv'\n"
   ]
  },
  {
   "cell_type": "code",
   "execution_count": 648,
   "metadata": {},
   "outputs": [],
   "source": [
    "train_size = int(len(sentences) * training_portion)\n",
    "\n",
    "train_sentences = sentences[:train_size]\n",
    "train_labels = labels[:train_size]\n",
    "\n",
    "validation_sentences = sentences[train_size:]\n",
    "validation_labels = labels[train_size:]"
   ]
  },
  {
   "cell_type": "code",
   "execution_count": 649,
   "metadata": {},
   "outputs": [],
   "source": [
    "tokenizer = Tokenizer(num_words = vocab_size, oov_token=oov_tok)\n",
    "tokenizer.fit_on_texts(X_train)\n",
    "word_index = tokenizer.word_index\n",
    "\n",
    "train_sequences = tokenizer.texts_to_sequences(X_train)\n",
    "train_padded = pad_sequences(train_sequences, padding=padding_type, maxlen=max_length)\n",
    "\n",
    "validation_sequences = tokenizer.texts_to_sequences(validation_sentences)\n",
    "validation_padded = pad_sequences(validation_sequences, padding=padding_type, maxlen=max_length)"
   ]
  },
  {
   "cell_type": "code",
   "execution_count": 652,
   "metadata": {},
   "outputs": [
    {
     "ename": "ValueError",
     "evalue": "setting an array element with a sequence. The requested array has an inhomogeneous shape after 1 dimensions. The detected shape was (83457,) + inhomogeneous part.",
     "output_type": "error",
     "traceback": [
      "\u001b[1;31m---------------------------------------------------------------------------\u001b[0m",
      "\u001b[1;31mValueError\u001b[0m                                Traceback (most recent call last)",
      "Cell \u001b[1;32mIn[652], line 4\u001b[0m\n\u001b[0;32m      1\u001b[0m label_tokenizer \u001b[38;5;241m=\u001b[39m Tokenizer()\n\u001b[0;32m      2\u001b[0m label_tokenizer\u001b[38;5;241m.\u001b[39mfit_on_texts(labels)\n\u001b[1;32m----> 4\u001b[0m training_label_seq \u001b[38;5;241m=\u001b[39m \u001b[43mnp\u001b[49m\u001b[38;5;241;43m.\u001b[39;49m\u001b[43marray\u001b[49m\u001b[43m(\u001b[49m\u001b[43mlabel_tokenizer\u001b[49m\u001b[38;5;241;43m.\u001b[39;49m\u001b[43mtexts_to_sequences\u001b[49m\u001b[43m(\u001b[49m\u001b[43mtrain_labels\u001b[49m\u001b[43m)\u001b[49m\u001b[43m)\u001b[49m\n\u001b[0;32m      5\u001b[0m validation_label_seq \u001b[38;5;241m=\u001b[39m np\u001b[38;5;241m.\u001b[39marray(label_tokenizer\u001b[38;5;241m.\u001b[39mtexts_to_sequences(validation_labels))\n",
      "\u001b[1;31mValueError\u001b[0m: setting an array element with a sequence. The requested array has an inhomogeneous shape after 1 dimensions. The detected shape was (83457,) + inhomogeneous part."
     ]
    }
   ],
   "source": [
    "label_tokenizer = Tokenizer()\n",
    "label_tokenizer.fit_on_texts(labels)\n",
    "\n",
    "training_label_seq = np.array(label_tokenizer.texts_to_sequences(train_labels))\n",
    "validation_label_seq = np.array(label_tokenizer.texts_to_sequences(validation_labels))"
   ]
  }
 ],
 "metadata": {
  "kernelspec": {
   "display_name": ".venv",
   "language": "python",
   "name": "python3"
  },
  "language_info": {
   "codemirror_mode": {
    "name": "ipython",
    "version": 3
   },
   "file_extension": ".py",
   "mimetype": "text/x-python",
   "name": "python",
   "nbconvert_exporter": "python",
   "pygments_lexer": "ipython3",
   "version": "3.12.7"
  }
 },
 "nbformat": 4,
 "nbformat_minor": 2
}
